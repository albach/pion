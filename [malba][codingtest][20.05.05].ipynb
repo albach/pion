{
 "cells": [
  {
   "cell_type": "code",
   "execution_count": 1,
   "metadata": {},
   "outputs": [],
   "source": [
    "import pandas as pd\n",
    "import numpy as np"
   ]
  },
  {
   "cell_type": "code",
   "execution_count": 2,
   "metadata": {},
   "outputs": [],
   "source": [
    "data = pd.read_csv('dataset/GooglePlay_pion.csv')"
   ]
  },
  {
   "cell_type": "code",
   "execution_count": 3,
   "metadata": {},
   "outputs": [
    {
     "output_type": "execute_result",
     "data": {
      "text/plain": "                                                 App        Category  Rating  \\\n0     Photo Editor & Candy Camera & Grid & ScrapBook  ART_AND_DESIGN     4.1   \n1                                Coloring book moana  ART_AND_DESIGN     3.9   \n2  U Launcher Lite – FREE Live Cool Themes, Hide ...  ART_AND_DESIGN     4.7   \n3                              Sketch - Draw & Paint  ART_AND_DESIGN     4.5   \n4              Pixel Draw - Number Art Coloring Book  ART_AND_DESIGN     4.3   \n\n   Reviews  Size     Installs  Type Price Content Rating  \\\n0      159   19M      10,000+  Free     0       Everyone   \n1      967   14M     500,000+  Free     0       Everyone   \n2    87510  8.7M   5,000,000+  Free     0       Everyone   \n3   215644   25M  50,000,000+  Free     0           Teen   \n4      967  2.8M     100,000+  Free     0       Everyone   \n\n                      Genres      Last Updated         Current Ver  \\\n0               Art & Design   January 7, 2018               1.0.0   \n1  Art & Design;Pretend Play  January 15, 2018               2.0.0   \n2               Art & Design    August 1, 2018               1.2.4   \n3               Art & Design      June 8, 2018  Varies with device   \n4    Art & Design;Creativity     June 20, 2018                 1.1   \n\n    Android Ver  \n0  4.0.3 and up  \n1  4.0.3 and up  \n2  4.0.3 and up  \n3    4.2 and up  \n4    4.4 and up  ",
      "text/html": "<div>\n<style scoped>\n    .dataframe tbody tr th:only-of-type {\n        vertical-align: middle;\n    }\n\n    .dataframe tbody tr th {\n        vertical-align: top;\n    }\n\n    .dataframe thead th {\n        text-align: right;\n    }\n</style>\n<table border=\"1\" class=\"dataframe\">\n  <thead>\n    <tr style=\"text-align: right;\">\n      <th></th>\n      <th>App</th>\n      <th>Category</th>\n      <th>Rating</th>\n      <th>Reviews</th>\n      <th>Size</th>\n      <th>Installs</th>\n      <th>Type</th>\n      <th>Price</th>\n      <th>Content Rating</th>\n      <th>Genres</th>\n      <th>Last Updated</th>\n      <th>Current Ver</th>\n      <th>Android Ver</th>\n    </tr>\n  </thead>\n  <tbody>\n    <tr>\n      <th>0</th>\n      <td>Photo Editor &amp; Candy Camera &amp; Grid &amp; ScrapBook</td>\n      <td>ART_AND_DESIGN</td>\n      <td>4.1</td>\n      <td>159</td>\n      <td>19M</td>\n      <td>10,000+</td>\n      <td>Free</td>\n      <td>0</td>\n      <td>Everyone</td>\n      <td>Art &amp; Design</td>\n      <td>January 7, 2018</td>\n      <td>1.0.0</td>\n      <td>4.0.3 and up</td>\n    </tr>\n    <tr>\n      <th>1</th>\n      <td>Coloring book moana</td>\n      <td>ART_AND_DESIGN</td>\n      <td>3.9</td>\n      <td>967</td>\n      <td>14M</td>\n      <td>500,000+</td>\n      <td>Free</td>\n      <td>0</td>\n      <td>Everyone</td>\n      <td>Art &amp; Design;Pretend Play</td>\n      <td>January 15, 2018</td>\n      <td>2.0.0</td>\n      <td>4.0.3 and up</td>\n    </tr>\n    <tr>\n      <th>2</th>\n      <td>U Launcher Lite – FREE Live Cool Themes, Hide ...</td>\n      <td>ART_AND_DESIGN</td>\n      <td>4.7</td>\n      <td>87510</td>\n      <td>8.7M</td>\n      <td>5,000,000+</td>\n      <td>Free</td>\n      <td>0</td>\n      <td>Everyone</td>\n      <td>Art &amp; Design</td>\n      <td>August 1, 2018</td>\n      <td>1.2.4</td>\n      <td>4.0.3 and up</td>\n    </tr>\n    <tr>\n      <th>3</th>\n      <td>Sketch - Draw &amp; Paint</td>\n      <td>ART_AND_DESIGN</td>\n      <td>4.5</td>\n      <td>215644</td>\n      <td>25M</td>\n      <td>50,000,000+</td>\n      <td>Free</td>\n      <td>0</td>\n      <td>Teen</td>\n      <td>Art &amp; Design</td>\n      <td>June 8, 2018</td>\n      <td>Varies with device</td>\n      <td>4.2 and up</td>\n    </tr>\n    <tr>\n      <th>4</th>\n      <td>Pixel Draw - Number Art Coloring Book</td>\n      <td>ART_AND_DESIGN</td>\n      <td>4.3</td>\n      <td>967</td>\n      <td>2.8M</td>\n      <td>100,000+</td>\n      <td>Free</td>\n      <td>0</td>\n      <td>Everyone</td>\n      <td>Art &amp; Design;Creativity</td>\n      <td>June 20, 2018</td>\n      <td>1.1</td>\n      <td>4.4 and up</td>\n    </tr>\n  </tbody>\n</table>\n</div>"
     },
     "metadata": {},
     "execution_count": 3
    }
   ],
   "source": [
    "data.head()"
   ]
  },
  {
   "cell_type": "code",
   "execution_count": 4,
   "metadata": {},
   "outputs": [
    {
     "output_type": "execute_result",
     "data": {
      "text/plain": "                                 App       Category  Rating  Reviews  Size  \\\n4825           Empire Z: Endless War         FAMILY     4.2   367951   76M   \n6616                BP Scanner Prank         FAMILY     4.1      157  7.0M   \n383    imo free video calls and chat  COMMUNICATION     4.3  4785988   11M   \n5680                 Alerte au gogol         FAMILY     NaN       14  2.0M   \n4923  AC Remote for Midea - NOW FREE          TOOLS     4.0      448   26M   \n\n          Installs  Type Price Content Rating         Genres  \\\n4825    5,000,000+  Free     0           Teen       Strategy   \n6616       50,000+  Free     0       Everyone  Entertainment   \n383   500,000,000+  Free     0       Everyone  Communication   \n5680        1,000+  Free     0       Everyone  Entertainment   \n4923      100,000+  Free     0       Everyone          Tools   \n\n            Last Updated       Current Ver   Android Ver  \n4825       July 16, 2018             2.2.8  4.0.3 and up  \n6616  September 20, 2016               1.2  4.0.3 and up  \n383         June 8, 2018  9.8.000000010501    4.0 and up  \n5680    February 9, 2018           1.0.0.0    4.0 and up  \n4923       July 30, 2018             6.1.7    4.2 and up  ",
      "text/html": "<div>\n<style scoped>\n    .dataframe tbody tr th:only-of-type {\n        vertical-align: middle;\n    }\n\n    .dataframe tbody tr th {\n        vertical-align: top;\n    }\n\n    .dataframe thead th {\n        text-align: right;\n    }\n</style>\n<table border=\"1\" class=\"dataframe\">\n  <thead>\n    <tr style=\"text-align: right;\">\n      <th></th>\n      <th>App</th>\n      <th>Category</th>\n      <th>Rating</th>\n      <th>Reviews</th>\n      <th>Size</th>\n      <th>Installs</th>\n      <th>Type</th>\n      <th>Price</th>\n      <th>Content Rating</th>\n      <th>Genres</th>\n      <th>Last Updated</th>\n      <th>Current Ver</th>\n      <th>Android Ver</th>\n    </tr>\n  </thead>\n  <tbody>\n    <tr>\n      <th>4825</th>\n      <td>Empire Z: Endless War</td>\n      <td>FAMILY</td>\n      <td>4.2</td>\n      <td>367951</td>\n      <td>76M</td>\n      <td>5,000,000+</td>\n      <td>Free</td>\n      <td>0</td>\n      <td>Teen</td>\n      <td>Strategy</td>\n      <td>July 16, 2018</td>\n      <td>2.2.8</td>\n      <td>4.0.3 and up</td>\n    </tr>\n    <tr>\n      <th>6616</th>\n      <td>BP Scanner Prank</td>\n      <td>FAMILY</td>\n      <td>4.1</td>\n      <td>157</td>\n      <td>7.0M</td>\n      <td>50,000+</td>\n      <td>Free</td>\n      <td>0</td>\n      <td>Everyone</td>\n      <td>Entertainment</td>\n      <td>September 20, 2016</td>\n      <td>1.2</td>\n      <td>4.0.3 and up</td>\n    </tr>\n    <tr>\n      <th>383</th>\n      <td>imo free video calls and chat</td>\n      <td>COMMUNICATION</td>\n      <td>4.3</td>\n      <td>4785988</td>\n      <td>11M</td>\n      <td>500,000,000+</td>\n      <td>Free</td>\n      <td>0</td>\n      <td>Everyone</td>\n      <td>Communication</td>\n      <td>June 8, 2018</td>\n      <td>9.8.000000010501</td>\n      <td>4.0 and up</td>\n    </tr>\n    <tr>\n      <th>5680</th>\n      <td>Alerte au gogol</td>\n      <td>FAMILY</td>\n      <td>NaN</td>\n      <td>14</td>\n      <td>2.0M</td>\n      <td>1,000+</td>\n      <td>Free</td>\n      <td>0</td>\n      <td>Everyone</td>\n      <td>Entertainment</td>\n      <td>February 9, 2018</td>\n      <td>1.0.0.0</td>\n      <td>4.0 and up</td>\n    </tr>\n    <tr>\n      <th>4923</th>\n      <td>AC Remote for Midea - NOW FREE</td>\n      <td>TOOLS</td>\n      <td>4.0</td>\n      <td>448</td>\n      <td>26M</td>\n      <td>100,000+</td>\n      <td>Free</td>\n      <td>0</td>\n      <td>Everyone</td>\n      <td>Tools</td>\n      <td>July 30, 2018</td>\n      <td>6.1.7</td>\n      <td>4.2 and up</td>\n    </tr>\n  </tbody>\n</table>\n</div>"
     },
     "metadata": {},
     "execution_count": 4
    }
   ],
   "source": [
    "data.sample(5)"
   ]
  },
  {
   "cell_type": "code",
   "execution_count": 5,
   "metadata": {},
   "outputs": [
    {
     "output_type": "stream",
     "name": "stdout",
     "text": "<class 'pandas.core.frame.DataFrame'>\nRangeIndex: 8999 entries, 0 to 8998\nData columns (total 13 columns):\n #   Column          Non-Null Count  Dtype  \n---  ------          --------------  -----  \n 0   App             8999 non-null   object \n 1   Category        8999 non-null   object \n 2   Rating          7957 non-null   float64\n 3   Reviews         8999 non-null   int64  \n 4   Size            8999 non-null   object \n 5   Installs        8999 non-null   object \n 6   Type            8999 non-null   object \n 7   Price           8999 non-null   object \n 8   Content Rating  8999 non-null   object \n 9   Genres          8999 non-null   object \n 10  Last Updated    8999 non-null   object \n 11  Current Ver     8992 non-null   object \n 12  Android Ver     8997 non-null   object \ndtypes: float64(1), int64(1), object(11)\nmemory usage: 914.1+ KB\n"
    }
   ],
   "source": [
    "data.info()"
   ]
  },
  {
   "cell_type": "code",
   "execution_count": 7,
   "metadata": {},
   "outputs": [],
   "source": [
    "# value counts for fast browsing on vscode\n",
    "vc_category = data['Category'].value_counts()\n",
    "vc_genres = data['Genres'].value_counts()\n",
    "vc_current_ver = data['Current Ver'].value_counts()\n",
    "vc_android_ver = data['Android Ver'].value_counts()"
   ]
  },
  {
   "cell_type": "markdown",
   "metadata": {},
   "source": [
    "## Quick first observations\n",
    "* _columnName {importance}{valuetype}{comment/action plan}_\n",
    "### Columns: \n",
    "* app{-1}{__categorical__}{not needed to make a prediction, unless we are trying to figure out a good name for a highly installable app. Candidate for removal.}\n",
    "* category{4}{__categorical__}{Encode it}\n",
    "* rating {4}{__numerical__}{has nan values, but setting the value to 0 or any number might yield to wrong information. We could either ignore it (remove those that are nan), or predict some of its values}\n",
    "* size{1}{__categorical__}{candidate to be converted to numerical value, although, it doesn't feel as if it could give a lot of information.}\n",
    "* installs{__target feature__}\n",
    "* type {-1}{__categorical__}{can be infered from actual price column, candidate for removal}\n",
    "* price {5}{__categorical__}{needs to be converted to numeric value}\n",
    "* content rating {1}{__categorical__}{Encode it}\n",
    "* genres {2}{__categorical__}{this seems to have a mixed of base categories and subcategories, for instance action is a category (meaning it can come alone) but \"action & adventure\" always comes along with some other category, explore more to define a strategy, first thoughts either remove the column (since we have category) or create categories from \"subcategories\" like \"action & adventure\" or \"creativity\"}\n",
    "* Last Updated {2}{__categorical__}{actually a date value, convert to date}\n",
    "* Current ver {0}{__numerical__}{\"varies with device\" is very high, and it normally shouldn't affect the prediction, as the nomenclature might change from developer to developer, candidate for removal}\n",
    "* Android ver {1}{__categorical__}{actually cound be treated as numerical, but according to [this](https://developer.android.com/guide/topics/manifest/uses-sdk-element) some values also convey extra information whether it is wearable or not, I am going to assume that _we are not interested on wearables_, => I think it should be safe to remove them. There are some others that show a range of android versions, => I think it should be safe to remove them. \"varies with device\" contributes a lot of counts, I think it should be safe to remove them. And, finally \"normalize\" the data by versions. This can also lead to make an analysis were it is treated as a number or as a category hence using hot encoding}"
   ]
  },
  {
   "cell_type": "markdown",
   "metadata": {},
   "source": [
    "### Data prep: 1st round "
   ]
  },
  {
   "cell_type": "code",
   "execution_count": 18,
   "metadata": {},
   "outputs": [],
   "source": [
    "# working dataset\n",
    "pion = data.copy()\n",
    "\n",
    "# drop unnecessary columns\n",
    "pion.drop([\"App\", \"Type\", \"Current Ver\"], axis=1, inplace=True)\n",
    "\n",
    "#convert to datetime\n",
    "pion['Last Updated'] = pd.to_datetime(pion['Last Updated'])"
   ]
  },
  {
   "cell_type": "markdown",
   "metadata": {},
   "source": [
    "#### Column: Android Ver"
   ]
  },
  {
   "cell_type": "code",
   "execution_count": 128,
   "metadata": {},
   "outputs": [],
   "source": [
    "# drop wearables\n",
    "pion.drop(pion[pion['Android Ver'].str.contains('W', na=False)].index, inplace=True)\n",
    "# drop 'Varies with device'\n",
    "pion.drop(pion[pion['Android Ver'].str.contains('Varies', na=False)].index, inplace=True)\n",
    "# drop ranges of versions\n",
    "pion.drop(pion[pion['Android Ver'].str.contains('-', na=False)].index, inplace=True)\n",
    "# remove 'and up'\n",
    "pion['Android Ver'] = pion['Android Ver'].str.replace('and up', '')\n",
    "# approximate versions\n",
    "pion['Android Ver'] = pion['Android Ver'].str.replace('2.0.1', '2.0')\n",
    "pion['Android Ver'] = pion['Android Ver'].str.replace('2.3.3', '2.3')\n",
    "pion['Android Ver'] = pion['Android Ver'].str.replace('4.0.3', '4.0')\n",
    "# convert to number\n",
    "pion['Android Ver'] = pd.to_numeric(pion['Android Ver'])"
   ]
  },
  {
   "cell_type": "markdown",
   "metadata": {},
   "source": [
    "#### Column: Price"
   ]
  },
  {
   "cell_type": "code",
   "execution_count": 135,
   "metadata": {},
   "outputs": [],
   "source": [
    "pion['Price'] = pion['Price'].replace('[\\$,]', '', regex=True).astype(float)"
   ]
  },
  {
   "cell_type": "code",
   "execution_count": 136,
   "metadata": {},
   "outputs": [
    {
     "output_type": "stream",
     "name": "stdout",
     "text": "<class 'pandas.core.frame.DataFrame'>\nInt64Index: 7728 entries, 0 to 8998\nData columns (total 10 columns):\n #   Column          Non-Null Count  Dtype         \n---  ------          --------------  -----         \n 0   Category        7728 non-null   object        \n 1   Rating          6721 non-null   float64       \n 2   Reviews         7728 non-null   int64         \n 3   Size            7728 non-null   object        \n 4   Installs        7728 non-null   object        \n 5   Price           7728 non-null   float64       \n 6   Content Rating  7728 non-null   object        \n 7   Genres          7728 non-null   object        \n 8   Last Updated    7728 non-null   datetime64[ns]\n 9   Android Ver     7726 non-null   float64       \ndtypes: datetime64[ns](1), float64(3), int64(1), object(5)\nmemory usage: 984.1+ KB\n"
    }
   ],
   "source": [
    "pion.info()"
   ]
  },
  {
   "cell_type": "code",
   "execution_count": null,
   "metadata": {},
   "outputs": [],
   "source": []
  }
 ],
 "metadata": {
  "language_info": {
   "codemirror_mode": {
    "name": "ipython",
    "version": 3
   },
   "file_extension": ".py",
   "mimetype": "text/x-python",
   "name": "python",
   "nbconvert_exporter": "python",
   "pygments_lexer": "ipython3",
   "version": "3.7.7-final"
  },
  "orig_nbformat": 2,
  "kernelspec": {
   "name": "python37764bitdsconda3a1dc614581e48128c59e9e8df4515ed",
   "display_name": "Python 3.7.7 64-bit ('ds': conda)"
  }
 },
 "nbformat": 4,
 "nbformat_minor": 2
}