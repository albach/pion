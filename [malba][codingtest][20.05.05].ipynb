{
 "cells": [
  {
   "cell_type": "code",
   "execution_count": 1,
   "metadata": {},
   "outputs": [],
   "source": [
    "import pandas as pd\n",
    "import numpy as np"
   ]
  },
  {
   "cell_type": "code",
   "execution_count": 2,
   "metadata": {},
   "outputs": [],
   "source": [
    "data = pd.read_csv('dataset/GooglePlay_pion.csv')"
   ]
  },
  {
   "cell_type": "code",
   "execution_count": 3,
   "metadata": {},
   "outputs": [
    {
     "output_type": "execute_result",
     "data": {
      "text/plain": "                                                 App        Category  Rating  \\\n0     Photo Editor & Candy Camera & Grid & ScrapBook  ART_AND_DESIGN     4.1   \n1                                Coloring book moana  ART_AND_DESIGN     3.9   \n2  U Launcher Lite – FREE Live Cool Themes, Hide ...  ART_AND_DESIGN     4.7   \n3                              Sketch - Draw & Paint  ART_AND_DESIGN     4.5   \n4              Pixel Draw - Number Art Coloring Book  ART_AND_DESIGN     4.3   \n\n   Reviews  Size     Installs  Type Price Content Rating  \\\n0      159   19M      10,000+  Free     0       Everyone   \n1      967   14M     500,000+  Free     0       Everyone   \n2    87510  8.7M   5,000,000+  Free     0       Everyone   \n3   215644   25M  50,000,000+  Free     0           Teen   \n4      967  2.8M     100,000+  Free     0       Everyone   \n\n                      Genres      Last Updated         Current Ver  \\\n0               Art & Design   January 7, 2018               1.0.0   \n1  Art & Design;Pretend Play  January 15, 2018               2.0.0   \n2               Art & Design    August 1, 2018               1.2.4   \n3               Art & Design      June 8, 2018  Varies with device   \n4    Art & Design;Creativity     June 20, 2018                 1.1   \n\n    Android Ver  \n0  4.0.3 and up  \n1  4.0.3 and up  \n2  4.0.3 and up  \n3    4.2 and up  \n4    4.4 and up  ",
      "text/html": "<div>\n<style scoped>\n    .dataframe tbody tr th:only-of-type {\n        vertical-align: middle;\n    }\n\n    .dataframe tbody tr th {\n        vertical-align: top;\n    }\n\n    .dataframe thead th {\n        text-align: right;\n    }\n</style>\n<table border=\"1\" class=\"dataframe\">\n  <thead>\n    <tr style=\"text-align: right;\">\n      <th></th>\n      <th>App</th>\n      <th>Category</th>\n      <th>Rating</th>\n      <th>Reviews</th>\n      <th>Size</th>\n      <th>Installs</th>\n      <th>Type</th>\n      <th>Price</th>\n      <th>Content Rating</th>\n      <th>Genres</th>\n      <th>Last Updated</th>\n      <th>Current Ver</th>\n      <th>Android Ver</th>\n    </tr>\n  </thead>\n  <tbody>\n    <tr>\n      <th>0</th>\n      <td>Photo Editor &amp; Candy Camera &amp; Grid &amp; ScrapBook</td>\n      <td>ART_AND_DESIGN</td>\n      <td>4.1</td>\n      <td>159</td>\n      <td>19M</td>\n      <td>10,000+</td>\n      <td>Free</td>\n      <td>0</td>\n      <td>Everyone</td>\n      <td>Art &amp; Design</td>\n      <td>January 7, 2018</td>\n      <td>1.0.0</td>\n      <td>4.0.3 and up</td>\n    </tr>\n    <tr>\n      <th>1</th>\n      <td>Coloring book moana</td>\n      <td>ART_AND_DESIGN</td>\n      <td>3.9</td>\n      <td>967</td>\n      <td>14M</td>\n      <td>500,000+</td>\n      <td>Free</td>\n      <td>0</td>\n      <td>Everyone</td>\n      <td>Art &amp; Design;Pretend Play</td>\n      <td>January 15, 2018</td>\n      <td>2.0.0</td>\n      <td>4.0.3 and up</td>\n    </tr>\n    <tr>\n      <th>2</th>\n      <td>U Launcher Lite – FREE Live Cool Themes, Hide ...</td>\n      <td>ART_AND_DESIGN</td>\n      <td>4.7</td>\n      <td>87510</td>\n      <td>8.7M</td>\n      <td>5,000,000+</td>\n      <td>Free</td>\n      <td>0</td>\n      <td>Everyone</td>\n      <td>Art &amp; Design</td>\n      <td>August 1, 2018</td>\n      <td>1.2.4</td>\n      <td>4.0.3 and up</td>\n    </tr>\n    <tr>\n      <th>3</th>\n      <td>Sketch - Draw &amp; Paint</td>\n      <td>ART_AND_DESIGN</td>\n      <td>4.5</td>\n      <td>215644</td>\n      <td>25M</td>\n      <td>50,000,000+</td>\n      <td>Free</td>\n      <td>0</td>\n      <td>Teen</td>\n      <td>Art &amp; Design</td>\n      <td>June 8, 2018</td>\n      <td>Varies with device</td>\n      <td>4.2 and up</td>\n    </tr>\n    <tr>\n      <th>4</th>\n      <td>Pixel Draw - Number Art Coloring Book</td>\n      <td>ART_AND_DESIGN</td>\n      <td>4.3</td>\n      <td>967</td>\n      <td>2.8M</td>\n      <td>100,000+</td>\n      <td>Free</td>\n      <td>0</td>\n      <td>Everyone</td>\n      <td>Art &amp; Design;Creativity</td>\n      <td>June 20, 2018</td>\n      <td>1.1</td>\n      <td>4.4 and up</td>\n    </tr>\n  </tbody>\n</table>\n</div>"
     },
     "metadata": {},
     "execution_count": 3
    }
   ],
   "source": [
    "data.head()"
   ]
  },
  {
   "cell_type": "code",
   "execution_count": 4,
   "metadata": {},
   "outputs": [
    {
     "output_type": "execute_result",
     "data": {
      "text/plain": "                                 App            Category  Rating  Reviews  \\\n6685                     BR Chat Bot              SOCIAL     1.9       16   \n1315  Map My Ride GPS Cycling Riding  HEALTH_AND_FITNESS     4.5   106547   \n4139           F Length Sim (no Ads)         PHOTOGRAPHY     NaN        0   \n5410                   Virtual lover              FAMILY     4.6    45771   \n7457         Calvin Klein – US Store            SHOPPING     4.7      221   \n\n      Size    Installs  Type  Price Content Rating            Genres  \\\n6685  2.6M      1,000+  Free      0       Everyone            Social   \n1315   54M  1,000,000+  Free      0       Everyone  Health & Fitness   \n4139  1.7M         10+  Paid  $2.00       Everyone       Photography   \n5410   28M  1,000,000+  Free      0     Mature 17+     Entertainment   \n7457  9.5M     50,000+  Free      0           Teen          Shopping   \n\n        Last Updated Current Ver   Android Ver  \n6685   June 30, 2016         1.0    4.0 and up  \n1315   July 27, 2018      18.7.1    5.0 and up  \n4139  April 29, 2018         1.0  4.0.3 and up  \n5410    June 8, 2018        1.39    4.1 and up  \n7457  August 1, 2017       3.6.0    4.1 and up  ",
      "text/html": "<div>\n<style scoped>\n    .dataframe tbody tr th:only-of-type {\n        vertical-align: middle;\n    }\n\n    .dataframe tbody tr th {\n        vertical-align: top;\n    }\n\n    .dataframe thead th {\n        text-align: right;\n    }\n</style>\n<table border=\"1\" class=\"dataframe\">\n  <thead>\n    <tr style=\"text-align: right;\">\n      <th></th>\n      <th>App</th>\n      <th>Category</th>\n      <th>Rating</th>\n      <th>Reviews</th>\n      <th>Size</th>\n      <th>Installs</th>\n      <th>Type</th>\n      <th>Price</th>\n      <th>Content Rating</th>\n      <th>Genres</th>\n      <th>Last Updated</th>\n      <th>Current Ver</th>\n      <th>Android Ver</th>\n    </tr>\n  </thead>\n  <tbody>\n    <tr>\n      <th>6685</th>\n      <td>BR Chat Bot</td>\n      <td>SOCIAL</td>\n      <td>1.9</td>\n      <td>16</td>\n      <td>2.6M</td>\n      <td>1,000+</td>\n      <td>Free</td>\n      <td>0</td>\n      <td>Everyone</td>\n      <td>Social</td>\n      <td>June 30, 2016</td>\n      <td>1.0</td>\n      <td>4.0 and up</td>\n    </tr>\n    <tr>\n      <th>1315</th>\n      <td>Map My Ride GPS Cycling Riding</td>\n      <td>HEALTH_AND_FITNESS</td>\n      <td>4.5</td>\n      <td>106547</td>\n      <td>54M</td>\n      <td>1,000,000+</td>\n      <td>Free</td>\n      <td>0</td>\n      <td>Everyone</td>\n      <td>Health &amp; Fitness</td>\n      <td>July 27, 2018</td>\n      <td>18.7.1</td>\n      <td>5.0 and up</td>\n    </tr>\n    <tr>\n      <th>4139</th>\n      <td>F Length Sim (no Ads)</td>\n      <td>PHOTOGRAPHY</td>\n      <td>NaN</td>\n      <td>0</td>\n      <td>1.7M</td>\n      <td>10+</td>\n      <td>Paid</td>\n      <td>$2.00</td>\n      <td>Everyone</td>\n      <td>Photography</td>\n      <td>April 29, 2018</td>\n      <td>1.0</td>\n      <td>4.0.3 and up</td>\n    </tr>\n    <tr>\n      <th>5410</th>\n      <td>Virtual lover</td>\n      <td>FAMILY</td>\n      <td>4.6</td>\n      <td>45771</td>\n      <td>28M</td>\n      <td>1,000,000+</td>\n      <td>Free</td>\n      <td>0</td>\n      <td>Mature 17+</td>\n      <td>Entertainment</td>\n      <td>June 8, 2018</td>\n      <td>1.39</td>\n      <td>4.1 and up</td>\n    </tr>\n    <tr>\n      <th>7457</th>\n      <td>Calvin Klein – US Store</td>\n      <td>SHOPPING</td>\n      <td>4.7</td>\n      <td>221</td>\n      <td>9.5M</td>\n      <td>50,000+</td>\n      <td>Free</td>\n      <td>0</td>\n      <td>Teen</td>\n      <td>Shopping</td>\n      <td>August 1, 2017</td>\n      <td>3.6.0</td>\n      <td>4.1 and up</td>\n    </tr>\n  </tbody>\n</table>\n</div>"
     },
     "metadata": {},
     "execution_count": 4
    }
   ],
   "source": [
    "data.sample(5)"
   ]
  },
  {
   "cell_type": "code",
   "execution_count": 5,
   "metadata": {},
   "outputs": [
    {
     "output_type": "stream",
     "name": "stdout",
     "text": "<class 'pandas.core.frame.DataFrame'>\nRangeIndex: 8999 entries, 0 to 8998\nData columns (total 13 columns):\n #   Column          Non-Null Count  Dtype  \n---  ------          --------------  -----  \n 0   App             8999 non-null   object \n 1   Category        8999 non-null   object \n 2   Rating          7957 non-null   float64\n 3   Reviews         8999 non-null   int64  \n 4   Size            8999 non-null   object \n 5   Installs        8999 non-null   object \n 6   Type            8999 non-null   object \n 7   Price           8999 non-null   object \n 8   Content Rating  8999 non-null   object \n 9   Genres          8999 non-null   object \n 10  Last Updated    8999 non-null   object \n 11  Current Ver     8992 non-null   object \n 12  Android Ver     8997 non-null   object \ndtypes: float64(1), int64(1), object(11)\nmemory usage: 914.1+ KB\n"
    }
   ],
   "source": [
    "data.info()"
   ]
  },
  {
   "cell_type": "code",
   "execution_count": 6,
   "metadata": {},
   "outputs": [],
   "source": [
    "# value counts for fast browsing on vscode\n",
    "vc_category = data['Category'].value_counts()\n",
    "vc_genres = data['Genres'].value_counts()\n",
    "vc_current_ver = data['Current Ver'].value_counts()\n",
    "vc_android_ver = data['Android Ver'].value_counts()"
   ]
  },
  {
   "cell_type": "markdown",
   "metadata": {},
   "source": [
    "## Quick first observations\n",
    "* _columnName {importance}{valuetype}{comment/action plan}_\n",
    "### Columns: \n",
    "* app{-1}{__categorical__}{not needed to make a prediction, unless we are trying to figure out a good name for a highly installable app. Candidate for removal.}\n",
    "* category{4}{__categorical__}{Encode it}\n",
    "* rating {4}{__numerical__}{has nan values, but setting the value to 0 or any number might yield to wrong information. We could either ignore it (remove those that are nan), or predict some of its values}\n",
    "* size{1}{__categorical__}{candidate to be converted to numerical value, although, it doesn't feel as if it could give a lot of information.}\n",
    "* installs{__target feature__}\n",
    "* type {-1}{__categorical__}{can be infered from actual price column, candidate for removal}\n",
    "* price {5}{__categorical__}{needs to be converted to numeric value}\n",
    "* content rating {1}{__categorical__}{Encode it}\n",
    "* genres {2}{__categorical__}{this seems to have a mixed of base categories and subcategories, for instance action is a category (meaning it can come alone) but \"action & adventure\" always comes along with some other category, explore more to define a strategy, first thoughts either remove the column (since we have category) or create categories from \"subcategories\" like \"action & adventure\" or \"creativity\"}\n",
    "* Last Updated {2}{__categorical__}{actually a date value, convert to date. But not sure about its impact}\n",
    "* Current ver {0}{__numerical__}{\"varies with device\" is very high, and it normally shouldn't affect the prediction, as the nomenclature might change from developer to developer, candidate for removal}\n",
    "* Android ver {1}{__categorical__}{actually cound be treated as numerical, but according to [this](https://developer.android.com/guide/topics/manifest/uses-sdk-element) some values also convey extra information whether it is wearable or not, I am going to assume that _we are not interested on wearables_, => I think it should be safe to remove them. There are some others that show a range of android versions, => I think it should be safe to remove them. \"varies with device\" contributes a lot of counts, I think it should be safe to remove them. And, finally \"normalize\" the data by versions. This can also lead to make an analysis were it is treated as a number or as a category hence using hot encoding}"
   ]
  },
  {
   "cell_type": "markdown",
   "metadata": {},
   "source": [
    "### Data prep: 1st round "
   ]
  },
  {
   "cell_type": "code",
   "execution_count": 7,
   "metadata": {},
   "outputs": [],
   "source": [
    "# working dataset\n",
    "pion = data.copy()\n",
    "\n",
    "# drop unnecessary columns\n",
    "pion.drop([\"App\", \"Type\", \"Current Ver\"], axis=1, inplace=True)\n",
    "\n",
    "#convert to datetime\n",
    "pion['Last Updated'] = pd.to_datetime(pion['Last Updated'])"
   ]
  },
  {
   "cell_type": "code",
   "execution_count": 8,
   "metadata": {},
   "outputs": [],
   "source": [
    "# For now I will drop this one\n",
    "pion.drop([\"Last Updated\"], axis=1, inplace=True)"
   ]
  },
  {
   "cell_type": "markdown",
   "metadata": {},
   "source": [
    "#### Column: Android Ver"
   ]
  },
  {
   "cell_type": "code",
   "execution_count": 9,
   "metadata": {},
   "outputs": [],
   "source": [
    "# drop wearables\n",
    "pion.drop(pion[pion['Android Ver'].str.contains('W', na=False)].index, inplace=True)\n",
    "# drop 'Varies with device'\n",
    "pion.drop(pion[pion['Android Ver'].str.contains('Varies', na=False)].index, inplace=True)\n",
    "# drop ranges of versions\n",
    "pion.drop(pion[pion['Android Ver'].str.contains('-', na=False)].index, inplace=True)\n",
    "# remove 'and up'\n",
    "pion['Android Ver'] = pion['Android Ver'].str.replace('and up', '')\n",
    "# approximate versions\n",
    "pion['Android Ver'] = pion['Android Ver'].str.replace('2.0.1', '2.0')\n",
    "pion['Android Ver'] = pion['Android Ver'].str.replace('2.3.3', '2.3')\n",
    "pion['Android Ver'] = pion['Android Ver'].str.replace('4.0.3', '4.0')\n",
    "# convert to number\n",
    "pion['Android Ver'] = pd.to_numeric(pion['Android Ver'])"
   ]
  },
  {
   "cell_type": "markdown",
   "metadata": {},
   "source": [
    "#### Column: Price"
   ]
  },
  {
   "cell_type": "code",
   "execution_count": 11,
   "metadata": {},
   "outputs": [],
   "source": [
    "pion['Price'] = pion['Price'].replace('[\\$,]', '', regex=True).astype(float)"
   ]
  },
  {
   "cell_type": "markdown",
   "metadata": {},
   "source": [
    "#### Column: Size"
   ]
  },
  {
   "cell_type": "code",
   "execution_count": 12,
   "metadata": {},
   "outputs": [],
   "source": [
    "'''Convert to megabytes'''\n",
    "def to_megas(x):\n",
    "    if x.find('M')>=0 :\n",
    "        return float(x.replace('M', ''))\n",
    "    if x.find('k')>=0 :\n",
    "        temp = float(x.replace('k', ''))/1000\n",
    "        return temp\n",
    "    return x\n"
   ]
  },
  {
   "cell_type": "code",
   "execution_count": 13,
   "metadata": {},
   "outputs": [],
   "source": [
    "# Convert to mb\n",
    "pion['Size'] = pion['Size'].apply(to_megas)\n",
    "# empties 'varies with device'\n",
    "pion['Size'] = pion['Size'].replace('[Varies with device]', '', regex=True)\n",
    "# Transforms to numeric\n",
    "pion['Size'] = pd.to_numeric(pion['Size'])"
   ]
  },
  {
   "cell_type": "code",
   "execution_count": 14,
   "metadata": {},
   "outputs": [],
   "source": [
    "# Strategy 1\n",
    "median = pion['Size'].median()\n",
    "pion['Size'].fillna(median, inplace=True)"
   ]
  },
  {
   "cell_type": "markdown",
   "metadata": {},
   "source": [
    "#### Column: Installs\n",
    "[source](https://stackoverflow.com/questions/11487470/number-of-downloads-in-google-play)"
   ]
  },
  {
   "cell_type": "code",
   "execution_count": 15,
   "metadata": {},
   "outputs": [],
   "source": [
    "# - since the \"Installs\" is given in occluded format, convert number of install to 1:4 point to the next level.\n",
    "# assume 0+ exists and is equals to 1+\n",
    "dic_installs_to_val = {\n",
    "'0+': 1-0.2*(1 - 5),\n",
    "'1+': 1-0.2*(1 - 5),\n",
    "'5+': 5-0.2*(5 - 10),\n",
    "'10+': 10-0.2*(10 - 50),\n",
    "'50+': 50-0.2*(50 - 100),\n",
    "'100+': 100-0.2*(100 - 500),\n",
    "'500+': 500-0.2*(500 - 1000),\n",
    "'1,000+': 1000-0.2*(1000 - 5000),\n",
    "'5,000+': 5000-0.2*(5000 - 10000),\n",
    "'10,000+': 10000-0.2*(10000 - 50000),\n",
    "'50,000+': 50000-0.2*(50000 - 100000),\n",
    "'100,000+': 100000-0.2*(100000 - 500000),\n",
    "'500,000+': 500000-0.2*(500000 - 1000000),\n",
    "'1,000,000+': 1000000-0.2*(1000000 - 5000000),\n",
    "'5,000,000+': 5000000-0.2*(5000000 - 10000000),\n",
    "'10,000,000+': 10000000-0.2*(10000000 - 50000000),\n",
    "'50,000,000+': 50000000-0.2*(50000000 - 100000000),\n",
    "'100,000,000+': 100000000-0.2*(100000000 - 500000000),\n",
    "'500,000,000+': 500000000-0.2*(500000000 - 1000000000),\n",
    "'1,000,000,000+': 1000000000-0.2*(1000000000 - 5000000000)\n",
    "}"
   ]
  },
  {
   "cell_type": "code",
   "execution_count": 16,
   "metadata": {},
   "outputs": [],
   "source": [
    "pion['Installs'] = pion['Installs'].apply(lambda x: dic_installs_to_val[x])"
   ]
  },
  {
   "cell_type": "code",
   "execution_count": 17,
   "metadata": {},
   "outputs": [
    {
     "output_type": "execute_result",
     "data": {
      "text/plain": "            Rating       Reviews         Size      Installs        Price  \\\ncount  6721.000000  7.728000e+03  7728.000000  7.728000e+03  7728.000000   \nmean      4.188290  3.194067e+05    21.398500  1.414453e+07     1.199357   \nstd       0.530816  1.907432e+06    22.389187  7.925794e+07    17.575407   \nmin       1.000000  0.000000e+00     0.008500  1.800000e+00     0.000000   \n25%       4.000000  3.800000e+01     5.300000  1.800000e+03     0.000000   \n50%       4.300000  1.563500e+03    13.000000  1.800000e+05     0.000000   \n75%       4.500000  3.887275e+04    29.000000  1.800000e+06     0.000000   \nmax       5.000000  4.489389e+07   100.000000  1.800000e+09   400.000000   \n\n       Android Ver  \ncount  7726.000000  \nmean      3.894978  \nstd       0.821255  \nmin       1.000000  \n25%       4.000000  \n50%       4.100000  \n75%       4.200000  \nmax       8.000000  ",
      "text/html": "<div>\n<style scoped>\n    .dataframe tbody tr th:only-of-type {\n        vertical-align: middle;\n    }\n\n    .dataframe tbody tr th {\n        vertical-align: top;\n    }\n\n    .dataframe thead th {\n        text-align: right;\n    }\n</style>\n<table border=\"1\" class=\"dataframe\">\n  <thead>\n    <tr style=\"text-align: right;\">\n      <th></th>\n      <th>Rating</th>\n      <th>Reviews</th>\n      <th>Size</th>\n      <th>Installs</th>\n      <th>Price</th>\n      <th>Android Ver</th>\n    </tr>\n  </thead>\n  <tbody>\n    <tr>\n      <th>count</th>\n      <td>6721.000000</td>\n      <td>7.728000e+03</td>\n      <td>7728.000000</td>\n      <td>7.728000e+03</td>\n      <td>7728.000000</td>\n      <td>7726.000000</td>\n    </tr>\n    <tr>\n      <th>mean</th>\n      <td>4.188290</td>\n      <td>3.194067e+05</td>\n      <td>21.398500</td>\n      <td>1.414453e+07</td>\n      <td>1.199357</td>\n      <td>3.894978</td>\n    </tr>\n    <tr>\n      <th>std</th>\n      <td>0.530816</td>\n      <td>1.907432e+06</td>\n      <td>22.389187</td>\n      <td>7.925794e+07</td>\n      <td>17.575407</td>\n      <td>0.821255</td>\n    </tr>\n    <tr>\n      <th>min</th>\n      <td>1.000000</td>\n      <td>0.000000e+00</td>\n      <td>0.008500</td>\n      <td>1.800000e+00</td>\n      <td>0.000000</td>\n      <td>1.000000</td>\n    </tr>\n    <tr>\n      <th>25%</th>\n      <td>4.000000</td>\n      <td>3.800000e+01</td>\n      <td>5.300000</td>\n      <td>1.800000e+03</td>\n      <td>0.000000</td>\n      <td>4.000000</td>\n    </tr>\n    <tr>\n      <th>50%</th>\n      <td>4.300000</td>\n      <td>1.563500e+03</td>\n      <td>13.000000</td>\n      <td>1.800000e+05</td>\n      <td>0.000000</td>\n      <td>4.100000</td>\n    </tr>\n    <tr>\n      <th>75%</th>\n      <td>4.500000</td>\n      <td>3.887275e+04</td>\n      <td>29.000000</td>\n      <td>1.800000e+06</td>\n      <td>0.000000</td>\n      <td>4.200000</td>\n    </tr>\n    <tr>\n      <th>max</th>\n      <td>5.000000</td>\n      <td>4.489389e+07</td>\n      <td>100.000000</td>\n      <td>1.800000e+09</td>\n      <td>400.000000</td>\n      <td>8.000000</td>\n    </tr>\n  </tbody>\n</table>\n</div>"
     },
     "metadata": {},
     "execution_count": 17
    }
   ],
   "source": [
    "pion.describe()"
   ]
  },
  {
   "cell_type": "code",
   "execution_count": 18,
   "metadata": {},
   "outputs": [],
   "source": [
    "corr_matrix = pion.corr()"
   ]
  },
  {
   "cell_type": "code",
   "execution_count": 19,
   "metadata": {},
   "outputs": [
    {
     "output_type": "execute_result",
     "data": {
      "text/plain": "               Rating   Reviews      Size  Installs     Price  Android Ver\nRating       1.000000  0.089209  0.093160  0.064216 -0.025286     0.044334\nReviews      0.089209  1.000000  0.243906  0.644826 -0.011367     0.022584\nSize         0.093160  0.243906  1.000000  0.164730 -0.024333     0.139881\nInstalls     0.064216  0.644826  0.164730  1.000000 -0.012148     0.035412\nPrice       -0.025286 -0.011367 -0.024333 -0.012148  1.000000     0.008881\nAndroid Ver  0.044334  0.022584  0.139881  0.035412  0.008881     1.000000",
      "text/html": "<div>\n<style scoped>\n    .dataframe tbody tr th:only-of-type {\n        vertical-align: middle;\n    }\n\n    .dataframe tbody tr th {\n        vertical-align: top;\n    }\n\n    .dataframe thead th {\n        text-align: right;\n    }\n</style>\n<table border=\"1\" class=\"dataframe\">\n  <thead>\n    <tr style=\"text-align: right;\">\n      <th></th>\n      <th>Rating</th>\n      <th>Reviews</th>\n      <th>Size</th>\n      <th>Installs</th>\n      <th>Price</th>\n      <th>Android Ver</th>\n    </tr>\n  </thead>\n  <tbody>\n    <tr>\n      <th>Rating</th>\n      <td>1.000000</td>\n      <td>0.089209</td>\n      <td>0.093160</td>\n      <td>0.064216</td>\n      <td>-0.025286</td>\n      <td>0.044334</td>\n    </tr>\n    <tr>\n      <th>Reviews</th>\n      <td>0.089209</td>\n      <td>1.000000</td>\n      <td>0.243906</td>\n      <td>0.644826</td>\n      <td>-0.011367</td>\n      <td>0.022584</td>\n    </tr>\n    <tr>\n      <th>Size</th>\n      <td>0.093160</td>\n      <td>0.243906</td>\n      <td>1.000000</td>\n      <td>0.164730</td>\n      <td>-0.024333</td>\n      <td>0.139881</td>\n    </tr>\n    <tr>\n      <th>Installs</th>\n      <td>0.064216</td>\n      <td>0.644826</td>\n      <td>0.164730</td>\n      <td>1.000000</td>\n      <td>-0.012148</td>\n      <td>0.035412</td>\n    </tr>\n    <tr>\n      <th>Price</th>\n      <td>-0.025286</td>\n      <td>-0.011367</td>\n      <td>-0.024333</td>\n      <td>-0.012148</td>\n      <td>1.000000</td>\n      <td>0.008881</td>\n    </tr>\n    <tr>\n      <th>Android Ver</th>\n      <td>0.044334</td>\n      <td>0.022584</td>\n      <td>0.139881</td>\n      <td>0.035412</td>\n      <td>0.008881</td>\n      <td>1.000000</td>\n    </tr>\n  </tbody>\n</table>\n</div>"
     },
     "metadata": {},
     "execution_count": 19
    }
   ],
   "source": [
    "corr_matrix"
   ]
  },
  {
   "cell_type": "code",
   "execution_count": 20,
   "metadata": {},
   "outputs": [
    {
     "output_type": "execute_result",
     "data": {
      "text/plain": "<matplotlib.axes._subplots.AxesSubplot at 0x1a2051bf90>"
     },
     "metadata": {},
     "execution_count": 20
    },
    {
     "output_type": "display_data",
     "data": {
      "text/plain": "<Figure size 432x288 with 2 Axes>",
      "image/svg+xml": "<?xml version=\"1.0\" encoding=\"utf-8\" standalone=\"no\"?>\n<!DOCTYPE svg PUBLIC \"-//W3C//DTD SVG 1.1//EN\"\n  \"http://www.w3.org/Graphics/SVG/1.1/DTD/svg11.dtd\">\n<!-- Created with matplotlib (https://matplotlib.org/) -->\n<svg height=\"252.317344pt\" version=\"1.1\" viewBox=\"0 0 398.906688 252.317344\" width=\"398.906688pt\" xmlns=\"http://www.w3.org/2000/svg\" xmlns:xlink=\"http://www.w3.org/1999/xlink\">\n <defs>\n  <style type=\"text/css\">\n*{stroke-linecap:butt;stroke-linejoin:round;}\n  </style>\n </defs>\n <g id=\"figure_1\">\n  <g id=\"patch_1\">\n   <path d=\"M 0 252.317344 \nL 398.906688 252.317344 \nL 398.906688 0 \nL 0 0 \nz\n\" style=\"fill:none;\"/>\n  </g>\n  <g id=\"axes_1\">\n   <g id=\"patch_2\">\n    <path d=\"M 73.351562 228.439219 \nL 341.191563 228.439219 \nL 341.191563 10.999219 \nL 73.351562 10.999219 \nz\n\" style=\"fill:#ffffff;\"/>\n   </g>\n   <g id=\"QuadMesh_1\">\n    <path clip-path=\"url(#paac88f5b46)\" d=\"M 73.351562 10.999219 \nL 117.991563 10.999219 \nL 117.991563 47.239219 \nL 73.351562 47.239219 \nL 73.351562 10.999219 \n\" style=\"fill:#08306b;\"/>\n    <path clip-path=\"url(#paac88f5b46)\" d=\"M 117.991563 10.999219 \nL 162.631563 10.999219 \nL 162.631563 47.239219 \nL 117.991563 47.239219 \nL 117.991563 10.999219 \n\" style=\"fill:#e1edf8;\"/>\n    <path clip-path=\"url(#paac88f5b46)\" d=\"M 162.631563 10.999219 \nL 207.271563 10.999219 \nL 207.271563 47.239219 \nL 162.631563 47.239219 \nL 162.631563 10.999219 \n\" style=\"fill:#e0ecf8;\"/>\n    <path clip-path=\"url(#paac88f5b46)\" d=\"M 207.271563 10.999219 \nL 251.911563 10.999219 \nL 251.911563 47.239219 \nL 207.271563 47.239219 \nL 207.271563 10.999219 \n\" style=\"fill:#e6f0f9;\"/>\n    <path clip-path=\"url(#paac88f5b46)\" d=\"M 251.911563 10.999219 \nL 296.551562 10.999219 \nL 296.551562 47.239219 \nL 251.911563 47.239219 \nL 251.911563 10.999219 \n\" style=\"fill:#f7fbff;\"/>\n    <path clip-path=\"url(#paac88f5b46)\" d=\"M 296.551562 10.999219 \nL 341.191563 10.999219 \nL 341.191563 47.239219 \nL 296.551562 47.239219 \nL 296.551562 10.999219 \n\" style=\"fill:#eaf2fb;\"/>\n    <path clip-path=\"url(#paac88f5b46)\" d=\"M 73.351562 47.239219 \nL 117.991563 47.239219 \nL 117.991563 83.479219 \nL 73.351562 83.479219 \nL 73.351562 47.239219 \n\" style=\"fill:#e1edf8;\"/>\n    <path clip-path=\"url(#paac88f5b46)\" d=\"M 117.991563 47.239219 \nL 162.631563 47.239219 \nL 162.631563 83.479219 \nL 117.991563 83.479219 \nL 117.991563 47.239219 \n\" style=\"fill:#08306b;\"/>\n    <path clip-path=\"url(#paac88f5b46)\" d=\"M 162.631563 47.239219 \nL 207.271563 47.239219 \nL 207.271563 83.479219 \nL 162.631563 83.479219 \nL 162.631563 47.239219 \n\" style=\"fill:#c2d9ee;\"/>\n    <path clip-path=\"url(#paac88f5b46)\" d=\"M 207.271563 47.239219 \nL 251.911563 47.239219 \nL 251.911563 83.479219 \nL 207.271563 83.479219 \nL 207.271563 47.239219 \n\" style=\"fill:#3a8ac2;\"/>\n    <path clip-path=\"url(#paac88f5b46)\" d=\"M 251.911563 47.239219 \nL 296.551562 47.239219 \nL 296.551562 83.479219 \nL 251.911563 83.479219 \nL 251.911563 47.239219 \n\" style=\"fill:#f5f9fe;\"/>\n    <path clip-path=\"url(#paac88f5b46)\" d=\"M 296.551562 47.239219 \nL 341.191563 47.239219 \nL 341.191563 83.479219 \nL 296.551562 83.479219 \nL 296.551562 47.239219 \n\" style=\"fill:#eef5fc;\"/>\n    <path clip-path=\"url(#paac88f5b46)\" d=\"M 73.351562 83.479219 \nL 117.991563 83.479219 \nL 117.991563 119.719219 \nL 73.351562 119.719219 \nL 73.351562 83.479219 \n\" style=\"fill:#e0ecf8;\"/>\n    <path clip-path=\"url(#paac88f5b46)\" d=\"M 117.991563 83.479219 \nL 162.631563 83.479219 \nL 162.631563 119.719219 \nL 117.991563 119.719219 \nL 117.991563 83.479219 \n\" style=\"fill:#c2d9ee;\"/>\n    <path clip-path=\"url(#paac88f5b46)\" d=\"M 162.631563 83.479219 \nL 207.271563 83.479219 \nL 207.271563 119.719219 \nL 162.631563 119.719219 \nL 162.631563 83.479219 \n\" style=\"fill:#08306b;\"/>\n    <path clip-path=\"url(#paac88f5b46)\" d=\"M 207.271563 83.479219 \nL 251.911563 83.479219 \nL 251.911563 119.719219 \nL 207.271563 119.719219 \nL 207.271563 83.479219 \n\" style=\"fill:#d3e3f3;\"/>\n    <path clip-path=\"url(#paac88f5b46)\" d=\"M 251.911563 83.479219 \nL 296.551562 83.479219 \nL 296.551562 119.719219 \nL 251.911563 119.719219 \nL 251.911563 83.479219 \n\" style=\"fill:#f7fbff;\"/>\n    <path clip-path=\"url(#paac88f5b46)\" d=\"M 296.551562 83.479219 \nL 341.191563 83.479219 \nL 341.191563 119.719219 \nL 296.551562 119.719219 \nL 296.551562 83.479219 \n\" style=\"fill:#d7e6f5;\"/>\n    <path clip-path=\"url(#paac88f5b46)\" d=\"M 73.351562 119.719219 \nL 117.991563 119.719219 \nL 117.991563 155.959219 \nL 73.351562 155.959219 \nL 73.351562 119.719219 \n\" style=\"fill:#e6f0f9;\"/>\n    <path clip-path=\"url(#paac88f5b46)\" d=\"M 117.991563 119.719219 \nL 162.631563 119.719219 \nL 162.631563 155.959219 \nL 117.991563 155.959219 \nL 117.991563 119.719219 \n\" style=\"fill:#3a8ac2;\"/>\n    <path clip-path=\"url(#paac88f5b46)\" d=\"M 162.631563 119.719219 \nL 207.271563 119.719219 \nL 207.271563 155.959219 \nL 162.631563 155.959219 \nL 162.631563 119.719219 \n\" style=\"fill:#d3e3f3;\"/>\n    <path clip-path=\"url(#paac88f5b46)\" d=\"M 207.271563 119.719219 \nL 251.911563 119.719219 \nL 251.911563 155.959219 \nL 207.271563 155.959219 \nL 207.271563 119.719219 \n\" style=\"fill:#08306b;\"/>\n    <path clip-path=\"url(#paac88f5b46)\" d=\"M 251.911563 119.719219 \nL 296.551562 119.719219 \nL 296.551562 155.959219 \nL 251.911563 155.959219 \nL 251.911563 119.719219 \n\" style=\"fill:#f5f9fe;\"/>\n    <path clip-path=\"url(#paac88f5b46)\" d=\"M 296.551562 119.719219 \nL 341.191563 119.719219 \nL 341.191563 155.959219 \nL 296.551562 155.959219 \nL 296.551562 119.719219 \n\" style=\"fill:#ebf3fb;\"/>\n    <path clip-path=\"url(#paac88f5b46)\" d=\"M 73.351562 155.959219 \nL 117.991563 155.959219 \nL 117.991563 192.199219 \nL 73.351562 192.199219 \nL 73.351562 155.959219 \n\" style=\"fill:#f7fbff;\"/>\n    <path clip-path=\"url(#paac88f5b46)\" d=\"M 117.991563 155.959219 \nL 162.631563 155.959219 \nL 162.631563 192.199219 \nL 117.991563 192.199219 \nL 117.991563 155.959219 \n\" style=\"fill:#f5f9fe;\"/>\n    <path clip-path=\"url(#paac88f5b46)\" d=\"M 162.631563 155.959219 \nL 207.271563 155.959219 \nL 207.271563 192.199219 \nL 162.631563 192.199219 \nL 162.631563 155.959219 \n\" style=\"fill:#f7fbff;\"/>\n    <path clip-path=\"url(#paac88f5b46)\" d=\"M 207.271563 155.959219 \nL 251.911563 155.959219 \nL 251.911563 192.199219 \nL 207.271563 192.199219 \nL 207.271563 155.959219 \n\" style=\"fill:#f5f9fe;\"/>\n    <path clip-path=\"url(#paac88f5b46)\" d=\"M 251.911563 155.959219 \nL 296.551562 155.959219 \nL 296.551562 192.199219 \nL 251.911563 192.199219 \nL 251.911563 155.959219 \n\" style=\"fill:#08306b;\"/>\n    <path clip-path=\"url(#paac88f5b46)\" d=\"M 296.551562 155.959219 \nL 341.191563 155.959219 \nL 341.191563 192.199219 \nL 296.551562 192.199219 \nL 296.551562 155.959219 \n\" style=\"fill:#f1f7fd;\"/>\n    <path clip-path=\"url(#paac88f5b46)\" d=\"M 73.351562 192.199219 \nL 117.991563 192.199219 \nL 117.991563 228.439219 \nL 73.351562 228.439219 \nL 73.351562 192.199219 \n\" style=\"fill:#eaf2fb;\"/>\n    <path clip-path=\"url(#paac88f5b46)\" d=\"M 117.991563 192.199219 \nL 162.631563 192.199219 \nL 162.631563 228.439219 \nL 117.991563 228.439219 \nL 117.991563 192.199219 \n\" style=\"fill:#eef5fc;\"/>\n    <path clip-path=\"url(#paac88f5b46)\" d=\"M 162.631563 192.199219 \nL 207.271563 192.199219 \nL 207.271563 228.439219 \nL 162.631563 228.439219 \nL 162.631563 192.199219 \n\" style=\"fill:#d7e6f5;\"/>\n    <path clip-path=\"url(#paac88f5b46)\" d=\"M 207.271563 192.199219 \nL 251.911563 192.199219 \nL 251.911563 228.439219 \nL 207.271563 228.439219 \nL 207.271563 192.199219 \n\" style=\"fill:#ebf3fb;\"/>\n    <path clip-path=\"url(#paac88f5b46)\" d=\"M 251.911563 192.199219 \nL 296.551562 192.199219 \nL 296.551562 228.439219 \nL 251.911563 228.439219 \nL 251.911563 192.199219 \n\" style=\"fill:#f1f7fd;\"/>\n    <path clip-path=\"url(#paac88f5b46)\" d=\"M 296.551562 192.199219 \nL 341.191563 192.199219 \nL 341.191563 228.439219 \nL 296.551562 228.439219 \nL 296.551562 192.199219 \n\" style=\"fill:#08306b;\"/>\n   </g>\n   <g id=\"matplotlib.axis_1\">\n    <g id=\"xtick_1\">\n     <g id=\"line2d_1\">\n      <defs>\n       <path d=\"M 0 0 \nL 0 3.5 \n\" id=\"m423b06cded\" style=\"stroke:#000000;stroke-width:0.8;\"/>\n      </defs>\n      <g>\n       <use style=\"stroke:#000000;stroke-width:0.8;\" x=\"95.671562\" xlink:href=\"#m423b06cded\" y=\"228.439219\"/>\n      </g>\n     </g>\n     <g id=\"text_1\">\n      <!-- Rating -->\n      <defs>\n       <path d=\"M 44.390625 34.1875 \nQ 47.5625 33.109375 50.5625 29.59375 \nQ 53.5625 26.078125 56.59375 19.921875 \nL 66.609375 0 \nL 56 0 \nL 46.6875 18.703125 \nQ 43.0625 26.03125 39.671875 28.421875 \nQ 36.28125 30.8125 30.421875 30.8125 \nL 19.671875 30.8125 \nL 19.671875 0 \nL 9.8125 0 \nL 9.8125 72.90625 \nL 32.078125 72.90625 \nQ 44.578125 72.90625 50.734375 67.671875 \nQ 56.890625 62.453125 56.890625 51.90625 \nQ 56.890625 45.015625 53.6875 40.46875 \nQ 50.484375 35.9375 44.390625 34.1875 \nz\nM 19.671875 64.796875 \nL 19.671875 38.921875 \nL 32.078125 38.921875 \nQ 39.203125 38.921875 42.84375 42.21875 \nQ 46.484375 45.515625 46.484375 51.90625 \nQ 46.484375 58.296875 42.84375 61.546875 \nQ 39.203125 64.796875 32.078125 64.796875 \nz\n\" id=\"DejaVuSans-82\"/>\n       <path d=\"M 34.28125 27.484375 \nQ 23.390625 27.484375 19.1875 25 \nQ 14.984375 22.515625 14.984375 16.5 \nQ 14.984375 11.71875 18.140625 8.90625 \nQ 21.296875 6.109375 26.703125 6.109375 \nQ 34.1875 6.109375 38.703125 11.40625 \nQ 43.21875 16.703125 43.21875 25.484375 \nL 43.21875 27.484375 \nz\nM 52.203125 31.203125 \nL 52.203125 0 \nL 43.21875 0 \nL 43.21875 8.296875 \nQ 40.140625 3.328125 35.546875 0.953125 \nQ 30.953125 -1.421875 24.3125 -1.421875 \nQ 15.921875 -1.421875 10.953125 3.296875 \nQ 6 8.015625 6 15.921875 \nQ 6 25.140625 12.171875 29.828125 \nQ 18.359375 34.515625 30.609375 34.515625 \nL 43.21875 34.515625 \nL 43.21875 35.40625 \nQ 43.21875 41.609375 39.140625 45 \nQ 35.0625 48.390625 27.6875 48.390625 \nQ 23 48.390625 18.546875 47.265625 \nQ 14.109375 46.140625 10.015625 43.890625 \nL 10.015625 52.203125 \nQ 14.9375 54.109375 19.578125 55.046875 \nQ 24.21875 56 28.609375 56 \nQ 40.484375 56 46.34375 49.84375 \nQ 52.203125 43.703125 52.203125 31.203125 \nz\n\" id=\"DejaVuSans-97\"/>\n       <path d=\"M 18.3125 70.21875 \nL 18.3125 54.6875 \nL 36.8125 54.6875 \nL 36.8125 47.703125 \nL 18.3125 47.703125 \nL 18.3125 18.015625 \nQ 18.3125 11.328125 20.140625 9.421875 \nQ 21.96875 7.515625 27.59375 7.515625 \nL 36.8125 7.515625 \nL 36.8125 0 \nL 27.59375 0 \nQ 17.1875 0 13.234375 3.875 \nQ 9.28125 7.765625 9.28125 18.015625 \nL 9.28125 47.703125 \nL 2.6875 47.703125 \nL 2.6875 54.6875 \nL 9.28125 54.6875 \nL 9.28125 70.21875 \nz\n\" id=\"DejaVuSans-116\"/>\n       <path d=\"M 9.421875 54.6875 \nL 18.40625 54.6875 \nL 18.40625 0 \nL 9.421875 0 \nz\nM 9.421875 75.984375 \nL 18.40625 75.984375 \nL 18.40625 64.59375 \nL 9.421875 64.59375 \nz\n\" id=\"DejaVuSans-105\"/>\n       <path d=\"M 54.890625 33.015625 \nL 54.890625 0 \nL 45.90625 0 \nL 45.90625 32.71875 \nQ 45.90625 40.484375 42.875 44.328125 \nQ 39.84375 48.1875 33.796875 48.1875 \nQ 26.515625 48.1875 22.3125 43.546875 \nQ 18.109375 38.921875 18.109375 30.90625 \nL 18.109375 0 \nL 9.078125 0 \nL 9.078125 54.6875 \nL 18.109375 54.6875 \nL 18.109375 46.1875 \nQ 21.34375 51.125 25.703125 53.5625 \nQ 30.078125 56 35.796875 56 \nQ 45.21875 56 50.046875 50.171875 \nQ 54.890625 44.34375 54.890625 33.015625 \nz\n\" id=\"DejaVuSans-110\"/>\n       <path d=\"M 45.40625 27.984375 \nQ 45.40625 37.75 41.375 43.109375 \nQ 37.359375 48.484375 30.078125 48.484375 \nQ 22.859375 48.484375 18.828125 43.109375 \nQ 14.796875 37.75 14.796875 27.984375 \nQ 14.796875 18.265625 18.828125 12.890625 \nQ 22.859375 7.515625 30.078125 7.515625 \nQ 37.359375 7.515625 41.375 12.890625 \nQ 45.40625 18.265625 45.40625 27.984375 \nz\nM 54.390625 6.78125 \nQ 54.390625 -7.171875 48.1875 -13.984375 \nQ 42 -20.796875 29.203125 -20.796875 \nQ 24.46875 -20.796875 20.265625 -20.09375 \nQ 16.0625 -19.390625 12.109375 -17.921875 \nL 12.109375 -9.1875 \nQ 16.0625 -11.328125 19.921875 -12.34375 \nQ 23.78125 -13.375 27.78125 -13.375 \nQ 36.625 -13.375 41.015625 -8.765625 \nQ 45.40625 -4.15625 45.40625 5.171875 \nL 45.40625 9.625 \nQ 42.625 4.78125 38.28125 2.390625 \nQ 33.9375 0 27.875 0 \nQ 17.828125 0 11.671875 7.65625 \nQ 5.515625 15.328125 5.515625 27.984375 \nQ 5.515625 40.671875 11.671875 48.328125 \nQ 17.828125 56 27.875 56 \nQ 33.9375 56 38.28125 53.609375 \nQ 42.625 51.21875 45.40625 46.390625 \nL 45.40625 54.6875 \nL 54.390625 54.6875 \nz\n\" id=\"DejaVuSans-103\"/>\n      </defs>\n      <g transform=\"translate(79.442656 243.037656)scale(0.1 -0.1)\">\n       <use xlink:href=\"#DejaVuSans-82\"/>\n       <use x=\"69.451172\" xlink:href=\"#DejaVuSans-97\"/>\n       <use x=\"130.730469\" xlink:href=\"#DejaVuSans-116\"/>\n       <use x=\"169.939453\" xlink:href=\"#DejaVuSans-105\"/>\n       <use x=\"197.722656\" xlink:href=\"#DejaVuSans-110\"/>\n       <use x=\"261.101562\" xlink:href=\"#DejaVuSans-103\"/>\n      </g>\n     </g>\n    </g>\n    <g id=\"xtick_2\">\n     <g id=\"line2d_2\">\n      <g>\n       <use style=\"stroke:#000000;stroke-width:0.8;\" x=\"140.311563\" xlink:href=\"#m423b06cded\" y=\"228.439219\"/>\n      </g>\n     </g>\n     <g id=\"text_2\">\n      <!-- Reviews -->\n      <defs>\n       <path d=\"M 56.203125 29.59375 \nL 56.203125 25.203125 \nL 14.890625 25.203125 \nQ 15.484375 15.921875 20.484375 11.0625 \nQ 25.484375 6.203125 34.421875 6.203125 \nQ 39.59375 6.203125 44.453125 7.46875 \nQ 49.3125 8.734375 54.109375 11.28125 \nL 54.109375 2.78125 \nQ 49.265625 0.734375 44.1875 -0.34375 \nQ 39.109375 -1.421875 33.890625 -1.421875 \nQ 20.796875 -1.421875 13.15625 6.1875 \nQ 5.515625 13.8125 5.515625 26.8125 \nQ 5.515625 40.234375 12.765625 48.109375 \nQ 20.015625 56 32.328125 56 \nQ 43.359375 56 49.78125 48.890625 \nQ 56.203125 41.796875 56.203125 29.59375 \nz\nM 47.21875 32.234375 \nQ 47.125 39.59375 43.09375 43.984375 \nQ 39.0625 48.390625 32.421875 48.390625 \nQ 24.90625 48.390625 20.390625 44.140625 \nQ 15.875 39.890625 15.1875 32.171875 \nz\n\" id=\"DejaVuSans-101\"/>\n       <path d=\"M 2.984375 54.6875 \nL 12.5 54.6875 \nL 29.59375 8.796875 \nL 46.6875 54.6875 \nL 56.203125 54.6875 \nL 35.6875 0 \nL 23.484375 0 \nz\n\" id=\"DejaVuSans-118\"/>\n       <path d=\"M 4.203125 54.6875 \nL 13.1875 54.6875 \nL 24.421875 12.015625 \nL 35.59375 54.6875 \nL 46.1875 54.6875 \nL 57.421875 12.015625 \nL 68.609375 54.6875 \nL 77.59375 54.6875 \nL 63.28125 0 \nL 52.6875 0 \nL 40.921875 44.828125 \nL 29.109375 0 \nL 18.5 0 \nz\n\" id=\"DejaVuSans-119\"/>\n       <path d=\"M 44.28125 53.078125 \nL 44.28125 44.578125 \nQ 40.484375 46.53125 36.375 47.5 \nQ 32.28125 48.484375 27.875 48.484375 \nQ 21.1875 48.484375 17.84375 46.4375 \nQ 14.5 44.390625 14.5 40.28125 \nQ 14.5 37.15625 16.890625 35.375 \nQ 19.28125 33.59375 26.515625 31.984375 \nL 29.59375 31.296875 \nQ 39.15625 29.25 43.1875 25.515625 \nQ 47.21875 21.78125 47.21875 15.09375 \nQ 47.21875 7.46875 41.1875 3.015625 \nQ 35.15625 -1.421875 24.609375 -1.421875 \nQ 20.21875 -1.421875 15.453125 -0.5625 \nQ 10.6875 0.296875 5.421875 2 \nL 5.421875 11.28125 \nQ 10.40625 8.6875 15.234375 7.390625 \nQ 20.0625 6.109375 24.8125 6.109375 \nQ 31.15625 6.109375 34.5625 8.28125 \nQ 37.984375 10.453125 37.984375 14.40625 \nQ 37.984375 18.0625 35.515625 20.015625 \nQ 33.0625 21.96875 24.703125 23.78125 \nL 21.578125 24.515625 \nQ 13.234375 26.265625 9.515625 29.90625 \nQ 5.8125 33.546875 5.8125 39.890625 \nQ 5.8125 47.609375 11.28125 51.796875 \nQ 16.75 56 26.8125 56 \nQ 31.78125 56 36.171875 55.265625 \nQ 40.578125 54.546875 44.28125 53.078125 \nz\n\" id=\"DejaVuSans-115\"/>\n      </defs>\n      <g transform=\"translate(119.645156 243.037656)scale(0.1 -0.1)\">\n       <use xlink:href=\"#DejaVuSans-82\"/>\n       <use x=\"69.419922\" xlink:href=\"#DejaVuSans-101\"/>\n       <use x=\"130.943359\" xlink:href=\"#DejaVuSans-118\"/>\n       <use x=\"190.123047\" xlink:href=\"#DejaVuSans-105\"/>\n       <use x=\"217.90625\" xlink:href=\"#DejaVuSans-101\"/>\n       <use x=\"279.429688\" xlink:href=\"#DejaVuSans-119\"/>\n       <use x=\"361.216797\" xlink:href=\"#DejaVuSans-115\"/>\n      </g>\n     </g>\n    </g>\n    <g id=\"xtick_3\">\n     <g id=\"line2d_3\">\n      <g>\n       <use style=\"stroke:#000000;stroke-width:0.8;\" x=\"184.951562\" xlink:href=\"#m423b06cded\" y=\"228.439219\"/>\n      </g>\n     </g>\n     <g id=\"text_3\">\n      <!-- Size -->\n      <defs>\n       <path d=\"M 53.515625 70.515625 \nL 53.515625 60.890625 \nQ 47.90625 63.578125 42.921875 64.890625 \nQ 37.9375 66.21875 33.296875 66.21875 \nQ 25.25 66.21875 20.875 63.09375 \nQ 16.5 59.96875 16.5 54.203125 \nQ 16.5 49.359375 19.40625 46.890625 \nQ 22.3125 44.4375 30.421875 42.921875 \nL 36.375 41.703125 \nQ 47.40625 39.59375 52.65625 34.296875 \nQ 57.90625 29 57.90625 20.125 \nQ 57.90625 9.515625 50.796875 4.046875 \nQ 43.703125 -1.421875 29.984375 -1.421875 \nQ 24.8125 -1.421875 18.96875 -0.25 \nQ 13.140625 0.921875 6.890625 3.21875 \nL 6.890625 13.375 \nQ 12.890625 10.015625 18.65625 8.296875 \nQ 24.421875 6.59375 29.984375 6.59375 \nQ 38.421875 6.59375 43.015625 9.90625 \nQ 47.609375 13.234375 47.609375 19.390625 \nQ 47.609375 24.75 44.3125 27.78125 \nQ 41.015625 30.8125 33.5 32.328125 \nL 27.484375 33.5 \nQ 16.453125 35.6875 11.515625 40.375 \nQ 6.59375 45.0625 6.59375 53.421875 \nQ 6.59375 63.09375 13.40625 68.65625 \nQ 20.21875 74.21875 32.171875 74.21875 \nQ 37.3125 74.21875 42.625 73.28125 \nQ 47.953125 72.359375 53.515625 70.515625 \nz\n\" id=\"DejaVuSans-83\"/>\n       <path d=\"M 5.515625 54.6875 \nL 48.1875 54.6875 \nL 48.1875 46.484375 \nL 14.40625 7.171875 \nL 48.1875 7.171875 \nL 48.1875 0 \nL 4.296875 0 \nL 4.296875 8.203125 \nL 38.09375 47.515625 \nL 5.515625 47.515625 \nz\n\" id=\"DejaVuSans-122\"/>\n      </defs>\n      <g transform=\"translate(174.6875 243.037656)scale(0.1 -0.1)\">\n       <use xlink:href=\"#DejaVuSans-83\"/>\n       <use x=\"63.476562\" xlink:href=\"#DejaVuSans-105\"/>\n       <use x=\"91.259766\" xlink:href=\"#DejaVuSans-122\"/>\n       <use x=\"143.75\" xlink:href=\"#DejaVuSans-101\"/>\n      </g>\n     </g>\n    </g>\n    <g id=\"xtick_4\">\n     <g id=\"line2d_4\">\n      <g>\n       <use style=\"stroke:#000000;stroke-width:0.8;\" x=\"229.591563\" xlink:href=\"#m423b06cded\" y=\"228.439219\"/>\n      </g>\n     </g>\n     <g id=\"text_4\">\n      <!-- Installs -->\n      <defs>\n       <path d=\"M 9.8125 72.90625 \nL 19.671875 72.90625 \nL 19.671875 0 \nL 9.8125 0 \nz\n\" id=\"DejaVuSans-73\"/>\n       <path d=\"M 9.421875 75.984375 \nL 18.40625 75.984375 \nL 18.40625 0 \nL 9.421875 0 \nz\n\" id=\"DejaVuSans-108\"/>\n      </defs>\n      <g transform=\"translate(211.936094 243.037656)scale(0.1 -0.1)\">\n       <use xlink:href=\"#DejaVuSans-73\"/>\n       <use x=\"29.492188\" xlink:href=\"#DejaVuSans-110\"/>\n       <use x=\"92.871094\" xlink:href=\"#DejaVuSans-115\"/>\n       <use x=\"144.970703\" xlink:href=\"#DejaVuSans-116\"/>\n       <use x=\"184.179688\" xlink:href=\"#DejaVuSans-97\"/>\n       <use x=\"245.458984\" xlink:href=\"#DejaVuSans-108\"/>\n       <use x=\"273.242188\" xlink:href=\"#DejaVuSans-108\"/>\n       <use x=\"301.025391\" xlink:href=\"#DejaVuSans-115\"/>\n      </g>\n     </g>\n    </g>\n    <g id=\"xtick_5\">\n     <g id=\"line2d_5\">\n      <g>\n       <use style=\"stroke:#000000;stroke-width:0.8;\" x=\"274.231562\" xlink:href=\"#m423b06cded\" y=\"228.439219\"/>\n      </g>\n     </g>\n     <g id=\"text_5\">\n      <!-- Price -->\n      <defs>\n       <path d=\"M 19.671875 64.796875 \nL 19.671875 37.40625 \nL 32.078125 37.40625 \nQ 38.96875 37.40625 42.71875 40.96875 \nQ 46.484375 44.53125 46.484375 51.125 \nQ 46.484375 57.671875 42.71875 61.234375 \nQ 38.96875 64.796875 32.078125 64.796875 \nz\nM 9.8125 72.90625 \nL 32.078125 72.90625 \nQ 44.34375 72.90625 50.609375 67.359375 \nQ 56.890625 61.8125 56.890625 51.125 \nQ 56.890625 40.328125 50.609375 34.8125 \nQ 44.34375 29.296875 32.078125 29.296875 \nL 19.671875 29.296875 \nL 19.671875 0 \nL 9.8125 0 \nz\n\" id=\"DejaVuSans-80\"/>\n       <path d=\"M 41.109375 46.296875 \nQ 39.59375 47.171875 37.8125 47.578125 \nQ 36.03125 48 33.890625 48 \nQ 26.265625 48 22.1875 43.046875 \nQ 18.109375 38.09375 18.109375 28.8125 \nL 18.109375 0 \nL 9.078125 0 \nL 9.078125 54.6875 \nL 18.109375 54.6875 \nL 18.109375 46.1875 \nQ 20.953125 51.171875 25.484375 53.578125 \nQ 30.03125 56 36.53125 56 \nQ 37.453125 56 38.578125 55.875 \nQ 39.703125 55.765625 41.0625 55.515625 \nz\n\" id=\"DejaVuSans-114\"/>\n       <path d=\"M 48.78125 52.59375 \nL 48.78125 44.1875 \nQ 44.96875 46.296875 41.140625 47.34375 \nQ 37.3125 48.390625 33.40625 48.390625 \nQ 24.65625 48.390625 19.8125 42.84375 \nQ 14.984375 37.3125 14.984375 27.296875 \nQ 14.984375 17.28125 19.8125 11.734375 \nQ 24.65625 6.203125 33.40625 6.203125 \nQ 37.3125 6.203125 41.140625 7.25 \nQ 44.96875 8.296875 48.78125 10.40625 \nL 48.78125 2.09375 \nQ 45.015625 0.34375 40.984375 -0.53125 \nQ 36.96875 -1.421875 32.421875 -1.421875 \nQ 20.0625 -1.421875 12.78125 6.34375 \nQ 5.515625 14.109375 5.515625 27.296875 \nQ 5.515625 40.671875 12.859375 48.328125 \nQ 20.21875 56 33.015625 56 \nQ 37.15625 56 41.109375 55.140625 \nQ 45.0625 54.296875 48.78125 52.59375 \nz\n\" id=\"DejaVuSans-99\"/>\n      </defs>\n      <g transform=\"translate(261.947187 243.037656)scale(0.1 -0.1)\">\n       <use xlink:href=\"#DejaVuSans-80\"/>\n       <use x=\"60.287109\" xlink:href=\"#DejaVuSans-114\"/>\n       <use x=\"101.400391\" xlink:href=\"#DejaVuSans-105\"/>\n       <use x=\"129.183594\" xlink:href=\"#DejaVuSans-99\"/>\n       <use x=\"184.164062\" xlink:href=\"#DejaVuSans-101\"/>\n      </g>\n     </g>\n    </g>\n    <g id=\"xtick_6\">\n     <g id=\"line2d_6\">\n      <g>\n       <use style=\"stroke:#000000;stroke-width:0.8;\" x=\"318.871562\" xlink:href=\"#m423b06cded\" y=\"228.439219\"/>\n      </g>\n     </g>\n     <g id=\"text_6\">\n      <!-- Android Ver -->\n      <defs>\n       <path d=\"M 34.1875 63.1875 \nL 20.796875 26.90625 \nL 47.609375 26.90625 \nz\nM 28.609375 72.90625 \nL 39.796875 72.90625 \nL 67.578125 0 \nL 57.328125 0 \nL 50.6875 18.703125 \nL 17.828125 18.703125 \nL 11.1875 0 \nL 0.78125 0 \nz\n\" id=\"DejaVuSans-65\"/>\n       <path d=\"M 45.40625 46.390625 \nL 45.40625 75.984375 \nL 54.390625 75.984375 \nL 54.390625 0 \nL 45.40625 0 \nL 45.40625 8.203125 \nQ 42.578125 3.328125 38.25 0.953125 \nQ 33.9375 -1.421875 27.875 -1.421875 \nQ 17.96875 -1.421875 11.734375 6.484375 \nQ 5.515625 14.40625 5.515625 27.296875 \nQ 5.515625 40.1875 11.734375 48.09375 \nQ 17.96875 56 27.875 56 \nQ 33.9375 56 38.25 53.625 \nQ 42.578125 51.265625 45.40625 46.390625 \nz\nM 14.796875 27.296875 \nQ 14.796875 17.390625 18.875 11.75 \nQ 22.953125 6.109375 30.078125 6.109375 \nQ 37.203125 6.109375 41.296875 11.75 \nQ 45.40625 17.390625 45.40625 27.296875 \nQ 45.40625 37.203125 41.296875 42.84375 \nQ 37.203125 48.484375 30.078125 48.484375 \nQ 22.953125 48.484375 18.875 42.84375 \nQ 14.796875 37.203125 14.796875 27.296875 \nz\n\" id=\"DejaVuSans-100\"/>\n       <path d=\"M 30.609375 48.390625 \nQ 23.390625 48.390625 19.1875 42.75 \nQ 14.984375 37.109375 14.984375 27.296875 \nQ 14.984375 17.484375 19.15625 11.84375 \nQ 23.34375 6.203125 30.609375 6.203125 \nQ 37.796875 6.203125 41.984375 11.859375 \nQ 46.1875 17.53125 46.1875 27.296875 \nQ 46.1875 37.015625 41.984375 42.703125 \nQ 37.796875 48.390625 30.609375 48.390625 \nz\nM 30.609375 56 \nQ 42.328125 56 49.015625 48.375 \nQ 55.71875 40.765625 55.71875 27.296875 \nQ 55.71875 13.875 49.015625 6.21875 \nQ 42.328125 -1.421875 30.609375 -1.421875 \nQ 18.84375 -1.421875 12.171875 6.21875 \nQ 5.515625 13.875 5.515625 27.296875 \nQ 5.515625 40.765625 12.171875 48.375 \nQ 18.84375 56 30.609375 56 \nz\n\" id=\"DejaVuSans-111\"/>\n       <path id=\"DejaVuSans-32\"/>\n       <path d=\"M 28.609375 0 \nL 0.78125 72.90625 \nL 11.078125 72.90625 \nL 34.1875 11.53125 \nL 57.328125 72.90625 \nL 67.578125 72.90625 \nL 39.796875 0 \nz\n\" id=\"DejaVuSans-86\"/>\n      </defs>\n      <g transform=\"translate(289.295781 243.037656)scale(0.1 -0.1)\">\n       <use xlink:href=\"#DejaVuSans-65\"/>\n       <use x=\"68.408203\" xlink:href=\"#DejaVuSans-110\"/>\n       <use x=\"131.787109\" xlink:href=\"#DejaVuSans-100\"/>\n       <use x=\"195.263672\" xlink:href=\"#DejaVuSans-114\"/>\n       <use x=\"236.345703\" xlink:href=\"#DejaVuSans-111\"/>\n       <use x=\"297.527344\" xlink:href=\"#DejaVuSans-105\"/>\n       <use x=\"325.310547\" xlink:href=\"#DejaVuSans-100\"/>\n       <use x=\"388.787109\" xlink:href=\"#DejaVuSans-32\"/>\n       <use x=\"420.574219\" xlink:href=\"#DejaVuSans-86\"/>\n       <use x=\"488.873047\" xlink:href=\"#DejaVuSans-101\"/>\n       <use x=\"550.396484\" xlink:href=\"#DejaVuSans-114\"/>\n      </g>\n     </g>\n    </g>\n   </g>\n   <g id=\"matplotlib.axis_2\">\n    <g id=\"ytick_1\">\n     <g id=\"line2d_7\">\n      <defs>\n       <path d=\"M 0 0 \nL -3.5 0 \n\" id=\"mf5b03cca78\" style=\"stroke:#000000;stroke-width:0.8;\"/>\n      </defs>\n      <g>\n       <use style=\"stroke:#000000;stroke-width:0.8;\" x=\"73.351562\" xlink:href=\"#mf5b03cca78\" y=\"29.119219\"/>\n      </g>\n     </g>\n     <g id=\"text_7\">\n      <!-- Rating -->\n      <g transform=\"translate(33.89375 32.918438)scale(0.1 -0.1)\">\n       <use xlink:href=\"#DejaVuSans-82\"/>\n       <use x=\"69.451172\" xlink:href=\"#DejaVuSans-97\"/>\n       <use x=\"130.730469\" xlink:href=\"#DejaVuSans-116\"/>\n       <use x=\"169.939453\" xlink:href=\"#DejaVuSans-105\"/>\n       <use x=\"197.722656\" xlink:href=\"#DejaVuSans-110\"/>\n       <use x=\"261.101562\" xlink:href=\"#DejaVuSans-103\"/>\n      </g>\n     </g>\n    </g>\n    <g id=\"ytick_2\">\n     <g id=\"line2d_8\">\n      <g>\n       <use style=\"stroke:#000000;stroke-width:0.8;\" x=\"73.351562\" xlink:href=\"#mf5b03cca78\" y=\"65.359219\"/>\n      </g>\n     </g>\n     <g id=\"text_8\">\n      <!-- Reviews -->\n      <g transform=\"translate(25.01875 69.158438)scale(0.1 -0.1)\">\n       <use xlink:href=\"#DejaVuSans-82\"/>\n       <use x=\"69.419922\" xlink:href=\"#DejaVuSans-101\"/>\n       <use x=\"130.943359\" xlink:href=\"#DejaVuSans-118\"/>\n       <use x=\"190.123047\" xlink:href=\"#DejaVuSans-105\"/>\n       <use x=\"217.90625\" xlink:href=\"#DejaVuSans-101\"/>\n       <use x=\"279.429688\" xlink:href=\"#DejaVuSans-119\"/>\n       <use x=\"361.216797\" xlink:href=\"#DejaVuSans-115\"/>\n      </g>\n     </g>\n    </g>\n    <g id=\"ytick_3\">\n     <g id=\"line2d_9\">\n      <g>\n       <use style=\"stroke:#000000;stroke-width:0.8;\" x=\"73.351562\" xlink:href=\"#mf5b03cca78\" y=\"101.599219\"/>\n      </g>\n     </g>\n     <g id=\"text_9\">\n      <!-- Size -->\n      <g transform=\"translate(45.823437 105.398438)scale(0.1 -0.1)\">\n       <use xlink:href=\"#DejaVuSans-83\"/>\n       <use x=\"63.476562\" xlink:href=\"#DejaVuSans-105\"/>\n       <use x=\"91.259766\" xlink:href=\"#DejaVuSans-122\"/>\n       <use x=\"143.75\" xlink:href=\"#DejaVuSans-101\"/>\n      </g>\n     </g>\n    </g>\n    <g id=\"ytick_4\">\n     <g id=\"line2d_10\">\n      <g>\n       <use style=\"stroke:#000000;stroke-width:0.8;\" x=\"73.351562\" xlink:href=\"#mf5b03cca78\" y=\"137.839219\"/>\n      </g>\n     </g>\n     <g id=\"text_10\">\n      <!-- Installs -->\n      <g transform=\"translate(31.040625 141.638438)scale(0.1 -0.1)\">\n       <use xlink:href=\"#DejaVuSans-73\"/>\n       <use x=\"29.492188\" xlink:href=\"#DejaVuSans-110\"/>\n       <use x=\"92.871094\" xlink:href=\"#DejaVuSans-115\"/>\n       <use x=\"144.970703\" xlink:href=\"#DejaVuSans-116\"/>\n       <use x=\"184.179688\" xlink:href=\"#DejaVuSans-97\"/>\n       <use x=\"245.458984\" xlink:href=\"#DejaVuSans-108\"/>\n       <use x=\"273.242188\" xlink:href=\"#DejaVuSans-108\"/>\n       <use x=\"301.025391\" xlink:href=\"#DejaVuSans-115\"/>\n      </g>\n     </g>\n    </g>\n    <g id=\"ytick_5\">\n     <g id=\"line2d_11\">\n      <g>\n       <use style=\"stroke:#000000;stroke-width:0.8;\" x=\"73.351562\" xlink:href=\"#mf5b03cca78\" y=\"174.079219\"/>\n      </g>\n     </g>\n     <g id=\"text_11\">\n      <!-- Price -->\n      <g transform=\"translate(41.782812 177.878438)scale(0.1 -0.1)\">\n       <use xlink:href=\"#DejaVuSans-80\"/>\n       <use x=\"60.287109\" xlink:href=\"#DejaVuSans-114\"/>\n       <use x=\"101.400391\" xlink:href=\"#DejaVuSans-105\"/>\n       <use x=\"129.183594\" xlink:href=\"#DejaVuSans-99\"/>\n       <use x=\"184.164062\" xlink:href=\"#DejaVuSans-101\"/>\n      </g>\n     </g>\n    </g>\n    <g id=\"ytick_6\">\n     <g id=\"line2d_12\">\n      <g>\n       <use style=\"stroke:#000000;stroke-width:0.8;\" x=\"73.351562\" xlink:href=\"#mf5b03cca78\" y=\"210.319219\"/>\n      </g>\n     </g>\n     <g id=\"text_12\">\n      <!-- Android Ver -->\n      <g transform=\"translate(7.2 214.118438)scale(0.1 -0.1)\">\n       <use xlink:href=\"#DejaVuSans-65\"/>\n       <use x=\"68.408203\" xlink:href=\"#DejaVuSans-110\"/>\n       <use x=\"131.787109\" xlink:href=\"#DejaVuSans-100\"/>\n       <use x=\"195.263672\" xlink:href=\"#DejaVuSans-114\"/>\n       <use x=\"236.345703\" xlink:href=\"#DejaVuSans-111\"/>\n       <use x=\"297.527344\" xlink:href=\"#DejaVuSans-105\"/>\n       <use x=\"325.310547\" xlink:href=\"#DejaVuSans-100\"/>\n       <use x=\"388.787109\" xlink:href=\"#DejaVuSans-32\"/>\n       <use x=\"420.574219\" xlink:href=\"#DejaVuSans-86\"/>\n       <use x=\"488.873047\" xlink:href=\"#DejaVuSans-101\"/>\n       <use x=\"550.396484\" xlink:href=\"#DejaVuSans-114\"/>\n      </g>\n     </g>\n    </g>\n   </g>\n  </g>\n  <g id=\"axes_2\">\n   <g id=\"patch_3\">\n    <path clip-path=\"url(#p6b3c75f9e5)\" d=\"M 357.931563 228.439219 \nL 357.931563 227.589844 \nL 357.931563 11.848594 \nL 357.931563 10.999219 \nL 368.803563 10.999219 \nL 368.803563 11.848594 \nL 368.803563 227.589844 \nL 368.803563 228.439219 \nz\n\" style=\"fill:#ffffff;stroke:#ffffff;stroke-linejoin:miter;stroke-width:0.01;\"/>\n   </g>\n   <image height=\"217\" id=\"image92520635a2\" transform=\"scale(1 -1)translate(0 -217)\" width=\"11\" x=\"358\" xlink:href=\"data:image/png;base64,\niVBORw0KGgoAAAANSUhEUgAAAAsAAADZCAYAAAD2WsoCAAAABHNCSVQICAgIfAhkiAAAARtJREFUaIHtmDEOQyEMQ6nE/Y/bofqEru3GG55kEJ2tyHEch9/X+zNnW/z12ZaxrQNs6wDbeq1TNmkAFlA6VjmExjoWDwVwLlLZo+FJN4n5TRqosrWwaNwh8ZWysBtKd3zyX/P/g4n5PRoZ0g0x+a0L68UXUyMjRYvpbHFGNEJeMnDcFo3SKpvmB5VNNQB4gJRhm8LiK2OtHqIG46ydY1QZgb07GGIkZv71wupN0Yz0gA73DHO23RHmFw+9lnVefHnfKVt6wzO/+IyP8EaI+UMqV60ndApnZqQ77h8wVCMiGMVXwTi8QbTd7F810RsaOMP8ITqf742McYd4Ax76CM6MRg0AZg2iTfEqE/D5anjeQDrfcedV9sZtNfgF3i7dE92gvEIAAAAASUVORK5CYII=\" y=\"-11\"/>\n   <g id=\"matplotlib.axis_3\"/>\n   <g id=\"matplotlib.axis_4\">\n    <g id=\"ytick_7\">\n     <g id=\"line2d_13\">\n      <defs>\n       <path d=\"M 0 0 \nL 3.5 0 \n\" id=\"m6fa31a4e7c\" style=\"stroke:#000000;stroke-width:0.8;\"/>\n      </defs>\n      <g>\n       <use style=\"stroke:#000000;stroke-width:0.8;\" x=\"368.803563\" xlink:href=\"#m6fa31a4e7c\" y=\"223.076655\"/>\n      </g>\n     </g>\n     <g id=\"text_13\">\n      <!-- 0.0 -->\n      <defs>\n       <path d=\"M 31.78125 66.40625 \nQ 24.171875 66.40625 20.328125 58.90625 \nQ 16.5 51.421875 16.5 36.375 \nQ 16.5 21.390625 20.328125 13.890625 \nQ 24.171875 6.390625 31.78125 6.390625 \nQ 39.453125 6.390625 43.28125 13.890625 \nQ 47.125 21.390625 47.125 36.375 \nQ 47.125 51.421875 43.28125 58.90625 \nQ 39.453125 66.40625 31.78125 66.40625 \nz\nM 31.78125 74.21875 \nQ 44.046875 74.21875 50.515625 64.515625 \nQ 56.984375 54.828125 56.984375 36.375 \nQ 56.984375 17.96875 50.515625 8.265625 \nQ 44.046875 -1.421875 31.78125 -1.421875 \nQ 19.53125 -1.421875 13.0625 8.265625 \nQ 6.59375 17.96875 6.59375 36.375 \nQ 6.59375 54.828125 13.0625 64.515625 \nQ 19.53125 74.21875 31.78125 74.21875 \nz\n\" id=\"DejaVuSans-48\"/>\n       <path d=\"M 10.6875 12.40625 \nL 21 12.40625 \nL 21 0 \nL 10.6875 0 \nz\n\" id=\"DejaVuSans-46\"/>\n      </defs>\n      <g transform=\"translate(375.803563 226.875874)scale(0.1 -0.1)\">\n       <use xlink:href=\"#DejaVuSans-48\"/>\n       <use x=\"63.623047\" xlink:href=\"#DejaVuSans-46\"/>\n       <use x=\"95.410156\" xlink:href=\"#DejaVuSans-48\"/>\n      </g>\n     </g>\n    </g>\n    <g id=\"ytick_8\">\n     <g id=\"line2d_14\">\n      <g>\n       <use style=\"stroke:#000000;stroke-width:0.8;\" x=\"368.803563\" xlink:href=\"#m6fa31a4e7c\" y=\"180.661168\"/>\n      </g>\n     </g>\n     <g id=\"text_14\">\n      <!-- 0.2 -->\n      <defs>\n       <path d=\"M 19.1875 8.296875 \nL 53.609375 8.296875 \nL 53.609375 0 \nL 7.328125 0 \nL 7.328125 8.296875 \nQ 12.9375 14.109375 22.625 23.890625 \nQ 32.328125 33.6875 34.8125 36.53125 \nQ 39.546875 41.84375 41.421875 45.53125 \nQ 43.3125 49.21875 43.3125 52.78125 \nQ 43.3125 58.59375 39.234375 62.25 \nQ 35.15625 65.921875 28.609375 65.921875 \nQ 23.96875 65.921875 18.8125 64.3125 \nQ 13.671875 62.703125 7.8125 59.421875 \nL 7.8125 69.390625 \nQ 13.765625 71.78125 18.9375 73 \nQ 24.125 74.21875 28.421875 74.21875 \nQ 39.75 74.21875 46.484375 68.546875 \nQ 53.21875 62.890625 53.21875 53.421875 \nQ 53.21875 48.921875 51.53125 44.890625 \nQ 49.859375 40.875 45.40625 35.40625 \nQ 44.1875 33.984375 37.640625 27.21875 \nQ 31.109375 20.453125 19.1875 8.296875 \nz\n\" id=\"DejaVuSans-50\"/>\n      </defs>\n      <g transform=\"translate(375.803563 184.460387)scale(0.1 -0.1)\">\n       <use xlink:href=\"#DejaVuSans-48\"/>\n       <use x=\"63.623047\" xlink:href=\"#DejaVuSans-46\"/>\n       <use x=\"95.410156\" xlink:href=\"#DejaVuSans-50\"/>\n      </g>\n     </g>\n    </g>\n    <g id=\"ytick_9\">\n     <g id=\"line2d_15\">\n      <g>\n       <use style=\"stroke:#000000;stroke-width:0.8;\" x=\"368.803563\" xlink:href=\"#m6fa31a4e7c\" y=\"138.245681\"/>\n      </g>\n     </g>\n     <g id=\"text_15\">\n      <!-- 0.4 -->\n      <defs>\n       <path d=\"M 37.796875 64.3125 \nL 12.890625 25.390625 \nL 37.796875 25.390625 \nz\nM 35.203125 72.90625 \nL 47.609375 72.90625 \nL 47.609375 25.390625 \nL 58.015625 25.390625 \nL 58.015625 17.1875 \nL 47.609375 17.1875 \nL 47.609375 0 \nL 37.796875 0 \nL 37.796875 17.1875 \nL 4.890625 17.1875 \nL 4.890625 26.703125 \nz\n\" id=\"DejaVuSans-52\"/>\n      </defs>\n      <g transform=\"translate(375.803563 142.044899)scale(0.1 -0.1)\">\n       <use xlink:href=\"#DejaVuSans-48\"/>\n       <use x=\"63.623047\" xlink:href=\"#DejaVuSans-46\"/>\n       <use x=\"95.410156\" xlink:href=\"#DejaVuSans-52\"/>\n      </g>\n     </g>\n    </g>\n    <g id=\"ytick_10\">\n     <g id=\"line2d_16\">\n      <g>\n       <use style=\"stroke:#000000;stroke-width:0.8;\" x=\"368.803563\" xlink:href=\"#m6fa31a4e7c\" y=\"95.830193\"/>\n      </g>\n     </g>\n     <g id=\"text_16\">\n      <!-- 0.6 -->\n      <defs>\n       <path d=\"M 33.015625 40.375 \nQ 26.375 40.375 22.484375 35.828125 \nQ 18.609375 31.296875 18.609375 23.390625 \nQ 18.609375 15.53125 22.484375 10.953125 \nQ 26.375 6.390625 33.015625 6.390625 \nQ 39.65625 6.390625 43.53125 10.953125 \nQ 47.40625 15.53125 47.40625 23.390625 \nQ 47.40625 31.296875 43.53125 35.828125 \nQ 39.65625 40.375 33.015625 40.375 \nz\nM 52.59375 71.296875 \nL 52.59375 62.3125 \nQ 48.875 64.0625 45.09375 64.984375 \nQ 41.3125 65.921875 37.59375 65.921875 \nQ 27.828125 65.921875 22.671875 59.328125 \nQ 17.53125 52.734375 16.796875 39.40625 \nQ 19.671875 43.65625 24.015625 45.921875 \nQ 28.375 48.1875 33.59375 48.1875 \nQ 44.578125 48.1875 50.953125 41.515625 \nQ 57.328125 34.859375 57.328125 23.390625 \nQ 57.328125 12.15625 50.6875 5.359375 \nQ 44.046875 -1.421875 33.015625 -1.421875 \nQ 20.359375 -1.421875 13.671875 8.265625 \nQ 6.984375 17.96875 6.984375 36.375 \nQ 6.984375 53.65625 15.1875 63.9375 \nQ 23.390625 74.21875 37.203125 74.21875 \nQ 40.921875 74.21875 44.703125 73.484375 \nQ 48.484375 72.75 52.59375 71.296875 \nz\n\" id=\"DejaVuSans-54\"/>\n      </defs>\n      <g transform=\"translate(375.803563 99.629412)scale(0.1 -0.1)\">\n       <use xlink:href=\"#DejaVuSans-48\"/>\n       <use x=\"63.623047\" xlink:href=\"#DejaVuSans-46\"/>\n       <use x=\"95.410156\" xlink:href=\"#DejaVuSans-54\"/>\n      </g>\n     </g>\n    </g>\n    <g id=\"ytick_11\">\n     <g id=\"line2d_17\">\n      <g>\n       <use style=\"stroke:#000000;stroke-width:0.8;\" x=\"368.803563\" xlink:href=\"#m6fa31a4e7c\" y=\"53.414706\"/>\n      </g>\n     </g>\n     <g id=\"text_17\">\n      <!-- 0.8 -->\n      <defs>\n       <path d=\"M 31.78125 34.625 \nQ 24.75 34.625 20.71875 30.859375 \nQ 16.703125 27.09375 16.703125 20.515625 \nQ 16.703125 13.921875 20.71875 10.15625 \nQ 24.75 6.390625 31.78125 6.390625 \nQ 38.8125 6.390625 42.859375 10.171875 \nQ 46.921875 13.96875 46.921875 20.515625 \nQ 46.921875 27.09375 42.890625 30.859375 \nQ 38.875 34.625 31.78125 34.625 \nz\nM 21.921875 38.8125 \nQ 15.578125 40.375 12.03125 44.71875 \nQ 8.5 49.078125 8.5 55.328125 \nQ 8.5 64.0625 14.71875 69.140625 \nQ 20.953125 74.21875 31.78125 74.21875 \nQ 42.671875 74.21875 48.875 69.140625 \nQ 55.078125 64.0625 55.078125 55.328125 \nQ 55.078125 49.078125 51.53125 44.71875 \nQ 48 40.375 41.703125 38.8125 \nQ 48.828125 37.15625 52.796875 32.3125 \nQ 56.78125 27.484375 56.78125 20.515625 \nQ 56.78125 9.90625 50.3125 4.234375 \nQ 43.84375 -1.421875 31.78125 -1.421875 \nQ 19.734375 -1.421875 13.25 4.234375 \nQ 6.78125 9.90625 6.78125 20.515625 \nQ 6.78125 27.484375 10.78125 32.3125 \nQ 14.796875 37.15625 21.921875 38.8125 \nz\nM 18.3125 54.390625 \nQ 18.3125 48.734375 21.84375 45.5625 \nQ 25.390625 42.390625 31.78125 42.390625 \nQ 38.140625 42.390625 41.71875 45.5625 \nQ 45.3125 48.734375 45.3125 54.390625 \nQ 45.3125 60.0625 41.71875 63.234375 \nQ 38.140625 66.40625 31.78125 66.40625 \nQ 25.390625 66.40625 21.84375 63.234375 \nQ 18.3125 60.0625 18.3125 54.390625 \nz\n\" id=\"DejaVuSans-56\"/>\n      </defs>\n      <g transform=\"translate(375.803563 57.213925)scale(0.1 -0.1)\">\n       <use xlink:href=\"#DejaVuSans-48\"/>\n       <use x=\"63.623047\" xlink:href=\"#DejaVuSans-46\"/>\n       <use x=\"95.410156\" xlink:href=\"#DejaVuSans-56\"/>\n      </g>\n     </g>\n    </g>\n    <g id=\"ytick_12\">\n     <g id=\"line2d_18\">\n      <g>\n       <use style=\"stroke:#000000;stroke-width:0.8;\" x=\"368.803563\" xlink:href=\"#m6fa31a4e7c\" y=\"10.999219\"/>\n      </g>\n     </g>\n     <g id=\"text_18\">\n      <!-- 1.0 -->\n      <defs>\n       <path d=\"M 12.40625 8.296875 \nL 28.515625 8.296875 \nL 28.515625 63.921875 \nL 10.984375 60.40625 \nL 10.984375 69.390625 \nL 28.421875 72.90625 \nL 38.28125 72.90625 \nL 38.28125 8.296875 \nL 54.390625 8.296875 \nL 54.390625 0 \nL 12.40625 0 \nz\n\" id=\"DejaVuSans-49\"/>\n      </defs>\n      <g transform=\"translate(375.803563 14.798438)scale(0.1 -0.1)\">\n       <use xlink:href=\"#DejaVuSans-49\"/>\n       <use x=\"63.623047\" xlink:href=\"#DejaVuSans-46\"/>\n       <use x=\"95.410156\" xlink:href=\"#DejaVuSans-48\"/>\n      </g>\n     </g>\n    </g>\n   </g>\n   <g id=\"patch_4\">\n    <path d=\"M 357.931563 228.439219 \nL 357.931563 227.589844 \nL 357.931563 11.848594 \nL 357.931563 10.999219 \nL 368.803563 10.999219 \nL 368.803563 11.848594 \nL 368.803563 227.589844 \nL 368.803563 228.439219 \nz\n\" style=\"fill:none;\"/>\n   </g>\n  </g>\n </g>\n <defs>\n  <clipPath id=\"paac88f5b46\">\n   <rect height=\"217.44\" width=\"267.84\" x=\"73.351562\" y=\"10.999219\"/>\n  </clipPath>\n  <clipPath id=\"p6b3c75f9e5\">\n   <rect height=\"217.44\" width=\"10.872\" x=\"357.931563\" y=\"10.999219\"/>\n  </clipPath>\n </defs>\n</svg>\n",
      "image/png": "[encoded data removed]"
     },
     "metadata": {
      "needs_background": "light"
     }
    }
   ],
   "source": [
    "import matplotlib.pyplot as plt\n",
    "import seaborn as sns\n",
    "\n",
    "# correlation between installs and reviews\n",
    "plt.figure(figsize=(6,4))\n",
    "sns.heatmap(corr_matrix,cmap='Blues',annot=False) "
   ]
  },
  {
   "cell_type": "code",
   "execution_count": 21,
   "metadata": {},
   "outputs": [
    {
     "output_type": "execute_result",
     "data": {
      "text/plain": "Installs       1.000000\nReviews        0.644826\nSize           0.164730\nRating         0.064216\nAndroid Ver    0.035412\nPrice         -0.012148\nName: Installs, dtype: float64"
     },
     "metadata": {},
     "execution_count": 21
    }
   ],
   "source": [
    "corr_matrix[\"Installs\"].sort_values(ascending=False)"
   ]
  },
  {
   "cell_type": "markdown",
   "metadata": {},
   "source": [
    "###  Prepare for machine learning"
   ]
  },
  {
   "cell_type": "code",
   "execution_count": 22,
   "metadata": {},
   "outputs": [
    {
     "output_type": "stream",
     "name": "stdout",
     "text": "<class 'pandas.core.frame.DataFrame'>\nInt64Index: 7728 entries, 0 to 8998\nData columns (total 9 columns):\n #   Column          Non-Null Count  Dtype  \n---  ------          --------------  -----  \n 0   Category        7728 non-null   object \n 1   Rating          6721 non-null   float64\n 2   Reviews         7728 non-null   int64  \n 3   Size            7728 non-null   float64\n 4   Installs        7728 non-null   float64\n 5   Price           7728 non-null   float64\n 6   Content Rating  7728 non-null   object \n 7   Genres          7728 non-null   object \n 8   Android Ver     7726 non-null   float64\ndtypes: float64(5), int64(1), object(3)\nmemory usage: 603.8+ KB\n"
    }
   ],
   "source": [
    "pion.info()"
   ]
  },
  {
   "cell_type": "code",
   "execution_count": 23,
   "metadata": {},
   "outputs": [],
   "source": [
    "pion_x_pre = pion.drop(\"Installs\", axis=1)\n",
    "pion_y = pion[\"Installs\"].copy() # labels"
   ]
  },
  {
   "cell_type": "code",
   "execution_count": 24,
   "metadata": {},
   "outputs": [],
   "source": [
    "pion_x_num = pion_x_pre.drop([\"Category\", \"Content Rating\"], axis=1)"
   ]
  },
  {
   "cell_type": "code",
   "execution_count": 25,
   "metadata": {},
   "outputs": [],
   "source": [
    "from sklearn.pipeline import Pipeline\n",
    "from sklearn.preprocessing import StandardScaler\n",
    "\n",
    "# num_pipeline = Pipeline([\n",
    "        # ('std_scaler', StandardScaler()),\n",
    "    # ])"
   ]
  },
  {
   "cell_type": "code",
   "execution_count": 26,
   "metadata": {},
   "outputs": [],
   "source": [
    "from sklearn.compose import ColumnTransformer\n",
    "from sklearn.preprocessing import OneHotEncoder\n",
    "\n",
    "num_attribs = list(pion_x_num)\n",
    "cat_attribs = [\"Category\", \"Content Rating\"]\n",
    "\n",
    "# full_pipeline = ColumnTransformer([\n",
    "#         (\"num\", num_pipeline, num_attribs),\n",
    "#         (\"cat\", OneHotEncoder(), cat_attribs),\n",
    "#     ])\n",
    "\n",
    "full_pipeline = ColumnTransformer([\n",
    "    (\"cat\", OneHotEncoder(), cat_attribs),\n",
    "])"
   ]
  },
  {
   "cell_type": "code",
   "execution_count": 27,
   "metadata": {},
   "outputs": [],
   "source": [
    "pion_prepared = full_pipeline.fit_transform(pion_x_pre)"
   ]
  },
  {
   "cell_type": "code",
   "execution_count": 28,
   "metadata": {},
   "outputs": [
    {
     "output_type": "execute_result",
     "data": {
      "text/plain": "(7728, 39)"
     },
     "metadata": {},
     "execution_count": 28
    }
   ],
   "source": [
    "pion_prepared.shape"
   ]
  },
  {
   "cell_type": "code",
   "execution_count": 29,
   "metadata": {},
   "outputs": [],
   "source": [
    "# - split the data file into 8:2 Train:Validation.\n",
    "\n",
    "from sklearn.model_selection import train_test_split\n",
    "\n",
    "X_train, X_test, y_train, y_test = train_test_split(pion_prepared, pion_y, test_size=0.2, random_state=42)"
   ]
  },
  {
   "cell_type": "markdown",
   "metadata": {},
   "source": [
    "## ML Model\n"
   ]
  },
  {
   "cell_type": "code",
   "execution_count": 30,
   "metadata": {},
   "outputs": [],
   "source": [
    "import xgboost\n",
    "from sklearn.metrics import mean_squared_log_error, mean_squared_error\n"
   ]
  },
  {
   "cell_type": "code",
   "execution_count": 31,
   "metadata": {},
   "outputs": [],
   "source": [
    "xgb_reg = xgboost.XGBRegressor(random_state=42)\n",
    "xgb_reg.fit(X_train, y_train)\n",
    "y_pred = xgb_reg.predict(X_test)"
   ]
  },
  {
   "cell_type": "code",
   "execution_count": 32,
   "metadata": {},
   "outputs": [
    {
     "output_type": "stream",
     "name": "stdout",
     "text": "Validation: 6936268422339216.0\n"
    }
   ],
   "source": [
    "val_error = mean_squared_error(y_test, y_pred)\n",
    "print(\"Validation:\", val_error)"
   ]
  },
  {
   "cell_type": "code",
   "execution_count": null,
   "metadata": {},
   "outputs": [],
   "source": []
  }
 ],
 "metadata": {
  "language_info": {
   "codemirror_mode": {
    "name": "ipython",
    "version": 3
   },
   "file_extension": ".py",
   "mimetype": "text/x-python",
   "name": "python",
   "nbconvert_exporter": "python",
   "pygments_lexer": "ipython3",
   "version": "3.7.7-final"
  },
  "orig_nbformat": 2,
  "kernelspec": {
   "name": "python37764bitdsconda3a1dc614581e48128c59e9e8df4515ed",
   "display_name": "Python 3.7.7 64-bit ('ds': conda)"
  }
 },
 "nbformat": 4,
 "nbformat_minor": 2
}